{
 "cells": [
  {
   "cell_type": "markdown",
   "id": "a4811285",
   "metadata": {},
   "source": [
    "### Makine Öğrenmesi\n"
   ]
  },
  {
   "cell_type": "markdown",
   "id": "2250152d",
   "metadata": {},
   "source": [
    "### İhtiyacımız olacak olan kütüphaneler "
   ]
  },
  {
   "cell_type": "code",
   "execution_count": 1,
   "id": "1d6d7471",
   "metadata": {},
   "outputs": [],
   "source": [
    "import pandas as pd\n",
    "pd.set_option('display.max_columns', None)\n",
    "import numpy as np\n",
    "#import matplotlib.pyplot as plt\n",
    "#import seaborn as sn\n",
    "import sys\n",
    "#from sklearn.preprocessing import Imputer\n",
    "\n",
    "#np.set_printoptions(threshold=sys.maxsize)\n",
    "import warnings\n",
    "from sklearn.neighbors import KNeighborsClassifier\n",
    "from sklearn.ensemble import RandomForestClassifier\n",
    "from sklearn.metrics import roc_curve\n",
    "from sklearn.metrics import roc_auc_score\n",
    "from sklearn.metrics import confusion_matrix\n",
    "# Sürümden kaynaklı hatalı göz ardı etmek için kullanıyoruz.\n",
    "warnings.filterwarnings('ignore')\n",
    "from sklearn import preprocessing\n",
    "\n",
    "from sklearn.model_selection import train_test_split\n",
    "# Keras specific\n",
    "import keras \n",
    "from keras.models import Sequential\n",
    "from keras.datasets import mnist\n",
    "from keras.layers import Dense\n",
    "#from keras.utils import to_categorical "
   ]
  },
  {
   "cell_type": "code",
   "execution_count": 2,
   "id": "117b366e",
   "metadata": {
    "scrolled": false
   },
   "outputs": [
    {
     "name": "stdout",
     "output_type": "stream",
     "text": [
      "0       NEGATIVE\n",
      "1        NEUTRAL\n",
      "2       POSITIVE\n",
      "3       POSITIVE\n",
      "4        NEUTRAL\n",
      "          ...   \n",
      "2127     NEUTRAL\n",
      "2128    POSITIVE\n",
      "2129    NEGATIVE\n",
      "2130    NEGATIVE\n",
      "2131     NEUTRAL\n",
      "Name: label, Length: 2132, dtype: object\n"
     ]
    }
   ],
   "source": [
    "\n",
    "\n",
    "\n",
    "#listenin ortalama hesabunı verir\n",
    "def findAverage(lst):\n",
    "    return sum(lst) / len(lst)\n",
    "\n",
    "\n",
    "#df=pd.read_csv('bank_marketing_dataset.csv')\n",
    "df=pd.read_csv('emotions.csv')\n",
    "        \n",
    "df    \n",
    "\n",
    "dataset = df.values\n",
    "    \n",
    "dataset\n",
    "\n",
    "\n",
    "sample=df['label']\n",
    "\n",
    "print(sample)\n",
    "\n",
    "\n",
    "label_mapping = {'NEGATIVE': 0, 'NEUTRAL': 1, 'POSITIVE': 2}\n",
    "\n",
    "#print(df.shape)\n",
    "#print(df.head(15))\n",
    "#df.describe()\n",
    "\n",
    "#y = df[\"Number of Credit Problems\"].values.reshape(-1,1)  #sütun haline getirdik\n",
    "\n",
    "# x = df.drop([\"Loan ID\",\"Customer ID\"\n",
    "#              ,\"Number of Credit Problems\"\n",
    "#              ,\"Term\",\"Years in current job\"\n",
    "#              ,\"Home Ownership\",\"Purpose\"\n",
    "#              ,\"Years of Credit History\"\n",
    "#              ,\"Months since last delinquent\"\n",
    "#              ,\"Number of Open Accounts\"\n",
    "#              ,\"Current Credit Balance\"\n",
    "#              ,\"Maximum Open Credit\"\n",
    "#              ,\"Bankruptcies\"\n",
    "#              ,\"Tax Liens\"\n",
    "            \n",
    "            \n",
    "#             ],axis=1)\n",
    "#print(x.head(5))\n",
    "\n",
    "#print(y.shape)\n",
    "#print(type(y))\n",
    "\n",
    "#last=df[\"Months since last delinquent\"].values.reshape(-1,1)\n",
    "\n",
    "\n",
    "\n",
    "#print(x)\n",
    "\n",
    "\n",
    "\n"
   ]
  },
  {
   "cell_type": "code",
   "execution_count": 12,
   "id": "67d763a1",
   "metadata": {
    "scrolled": false
   },
   "outputs": [],
   "source": [
    "def preprocess_inputs(df):\n",
    "    df = df.copy()\n",
    "    \n",
    "    df['label'] = df['label'].replace(label_mapping)\n",
    "    \n",
    "    y = df['label'].copy()\n",
    "    X = df.drop('label', axis=1).copy()\n",
    "    print(\"Toplam çıkış\",y.shape)\n",
    "    print(\"Toplam giriş\",X.shape)\n",
    "    X_train, X_test, y_train, y_test = train_test_split(X, y, train_size=0.7, random_state=123)\n",
    "    \n",
    "    return X_train, X_test, y_train, y_test"
   ]
  },
  {
   "cell_type": "code",
   "execution_count": 14,
   "id": "12fb24fe",
   "metadata": {},
   "outputs": [
    {
     "name": "stdout",
     "output_type": "stream",
     "text": [
      "Toplam çıkış (2132,)\n",
      "Toplam giriş (2132, 2548)\n",
      "Eğitim için giriş verilerinin boyutu (1492, 2548)\n",
      "Test için giriş verilerinin boyutu (640, 2548)\n",
      "Eğitim için çıkış verilerinin boyutu (1492,)\n",
      "Test için çıkış verilerinin boyutu (640,)\n"
     ]
    }
   ],
   "source": [
    "X_train, X_test, y_train, y_test = preprocess_inputs(df)\n",
    "\n",
    "\n",
    "print(\"Eğitim için giriş verilerinin boyutu\",X_train.shape)\n",
    "print(\"Test için giriş verilerinin boyutu\",X_test.shape)\n",
    "print(\"Eğitim için çıkış verilerinin boyutu\",y_train.shape)\n",
    "print(\"Test için çıkış verilerinin boyutu\",y_test.shape)\n",
    "\n"
   ]
  },
  {
   "cell_type": "code",
   "execution_count": 15,
   "id": "7e1241d7",
   "metadata": {},
   "outputs": [
    {
     "name": "stdout",
     "output_type": "stream",
     "text": [
      "Model: \"sequential\"\n",
      "_________________________________________________________________\n",
      "Layer (type)                 Output Shape              Param #   \n",
      "=================================================================\n",
      "dense (Dense)                (None, 64)                163136    \n",
      "_________________________________________________________________\n",
      "dense_1 (Dense)              (None, 32)                2080      \n",
      "_________________________________________________________________\n",
      "dense_2 (Dense)              (None, 32)                1056      \n",
      "_________________________________________________________________\n",
      "dense_3 (Dense)              (None, 3)                 99        \n",
      "=================================================================\n",
      "Total params: 166,371\n",
      "Trainable params: 166,371\n",
      "Non-trainable params: 0\n",
      "_________________________________________________________________\n"
     ]
    }
   ],
   "source": [
    "\n",
    "model = Sequential()\n",
    "model.add(Dense(64, activation='relu', input_dim=2548))\n",
    "model.add(Dense(32, activation='relu'))\n",
    "model.add(Dense(32, activation='relu'))\n",
    "model.add(Dense(3, activation='softmax'))\n",
    "\n",
    "#Y_train = np.asarray(Y_train).astype('float32')\n",
    "# Compile the model\n",
    "from tensorflow import keras\n",
    "import tensorflow as tf\n",
    "\n",
    "model.compile(loss=\"sparse_categorical_crossentropy\", optimizer='adam', metrics=['accuracy'])\n",
    "model.summary()\n",
    "\n"
   ]
  },
  {
   "cell_type": "code",
   "execution_count": 18,
   "id": "b96f0704",
   "metadata": {},
   "outputs": [
    {
     "name": "stdout",
     "output_type": "stream",
     "text": [
      "Epoch 1/10\n",
      "33/33 [==============================] - 3s 90ms/step - loss: 3277112213504.0000 - accuracy: 0.6044 - val_loss: 634861453312.0000 - val_accuracy: 0.6317\n",
      "Epoch 2/10\n",
      "33/33 [==============================] - 0s 4ms/step - loss: 2802826346496.0000 - accuracy: 0.6341 - val_loss: 11238602964992.0000 - val_accuracy: 0.5692\n",
      "Epoch 3/10\n",
      "33/33 [==============================] - 0s 5ms/step - loss: 13892469129216.0000 - accuracy: 0.4895 - val_loss: 65696922861568.0000 - val_accuracy: 0.5826\n",
      "Epoch 4/10\n",
      "33/33 [==============================] - 0s 4ms/step - loss: 14232230821888.0000 - accuracy: 0.5862 - val_loss: 26102024110080.0000 - val_accuracy: 0.5938\n",
      "Epoch 5/10\n",
      "33/33 [==============================] - 0s 4ms/step - loss: 4596421361664.0000 - accuracy: 0.5201 - val_loss: 22032446128128.0000 - val_accuracy: 0.5625\n",
      "Epoch 6/10\n",
      "33/33 [==============================] - 0s 4ms/step - loss: 7129285525504.0000 - accuracy: 0.5489 - val_loss: 19481751453696.0000 - val_accuracy: 0.5737\n",
      "Epoch 7/10\n",
      "33/33 [==============================] - 0s 4ms/step - loss: 4277267070976.0000 - accuracy: 0.5536 - val_loss: 12785993908224.0000 - val_accuracy: 0.5603\n",
      "Epoch 8/10\n",
      "33/33 [==============================] - 0s 4ms/step - loss: 3089428905984.0000 - accuracy: 0.5029 - val_loss: 8626673025024.0000 - val_accuracy: 0.5759\n",
      "Epoch 9/10\n",
      "33/33 [==============================] - 0s 3ms/step - loss: 2299663220736.0000 - accuracy: 0.5623 - val_loss: 3831067574272.0000 - val_accuracy: 0.5089\n",
      "Epoch 10/10\n",
      "33/33 [==============================] - 0s 4ms/step - loss: 1457452089344.0000 - accuracy: 0.5910 - val_loss: 209169186816.0000 - val_accuracy: 0.6562\n"
     ]
    }
   ],
   "source": [
    "#validationı arttırdığımızda yani eğitim için data sayısını arttırdığımızda acc oranı artar\n",
    "history = model.fit(X_train, y_train,validation_split=0.3, batch_size=32,  epochs=10) "
   ]
  },
  {
   "cell_type": "code",
   "execution_count": 19,
   "id": "48f6bc18",
   "metadata": {},
   "outputs": [
    {
     "name": "stdout",
     "output_type": "stream",
     "text": [
      "Test Accuracy: 61.56%\n"
     ]
    }
   ],
   "source": [
    "model_acc = model.evaluate(X_test, y_test, verbose=0)[1]\n",
    "print(\"Test Accuracy: {:.2f}%\".format(model_acc * 100))"
   ]
  },
  {
   "cell_type": "markdown",
   "id": "241ac30b",
   "metadata": {},
   "source": [
    "###  Naif Bayes"
   ]
  },
  {
   "cell_type": "code",
   "execution_count": 20,
   "id": "1aba1722",
   "metadata": {},
   "outputs": [],
   "source": [
    "from sklearn.naive_bayes import GaussianNB\n",
    "from sklearn.metrics import confusion_matrix, accuracy_score,mean_absolute_error,accuracy_score\n",
    "#X_train, X_test, y_train, y_test = preprocess_inputs(df)\n",
    "\n",
    "\n",
    "gauss = GaussianNB().fit(X_train,y_train)\n",
    "pred_gauss_train = gauss.predict(X_train)\n",
    "pred_gauss_test = gauss.predict(X_test)\n",
    "\n",
    "# Train accuracy\n",
    "gauss_train_accr = round(gauss.score(X_train,y_train) * 100, 2)\n",
    "gauss_test_accr = round(gauss.score(X_test,y_test) * 100, 2)\n",
    "\n",
    "# Error rate\n",
    "gauss_train_mae = round((mean_absolute_error(y_train, pred_gauss_train) * 100), 2)\n",
    "gauss_test_mae = round((mean_absolute_error(y_test, pred_gauss_test) * 100), 2)"
   ]
  },
  {
   "cell_type": "code",
   "execution_count": 21,
   "id": "3f3085a6",
   "metadata": {
    "scrolled": true
   },
   "outputs": [
    {
     "name": "stdout",
     "output_type": "stream",
     "text": [
      "Gauss-Eğitim dogruluk oranı : %39.95\n",
      "Gauss-Test dogruluk oranı : %43.75\n"
     ]
    }
   ],
   "source": [
    "print(\"Gauss-Eğitim dogruluk oranı : %{}\".format(gauss_train_accr))\n",
    "print(\"Gauss-Test dogruluk oranı : %{}\".format(gauss_test_accr))\n",
    "\n"
   ]
  },
  {
   "cell_type": "code",
   "execution_count": 22,
   "id": "9926b383",
   "metadata": {},
   "outputs": [
    {
     "data": {
      "image/png": "[encoded data removed]",
      "text/plain": [
       "<Figure size 648x504 with 2 Axes>"
      ]
     },
     "metadata": {},
     "output_type": "display_data"
    }
   ],
   "source": [
    "import matplotlib.pyplot as plt\n",
    "import seaborn as sns \n",
    "sns.set(style='white')\n",
    "conf_mat = confusion_matrix(y_test, pred_gauss_test)\n",
    "fig, ax = plt.subplots(figsize=(9,7))\n",
    "sns.heatmap(conf_mat, annot=True, fmt='d')\n",
    "plt.ylabel('Actual')\n",
    "plt.xlabel('Tahmin')\n",
    "plt.show()"
   ]
  },
  {
   "cell_type": "markdown",
   "id": "bc5d457e",
   "metadata": {},
   "source": [
    "## K-En Yakın Komşular"
   ]
  },
  {
   "cell_type": "code",
   "execution_count": 53,
   "id": "915fb309",
   "metadata": {},
   "outputs": [
    {
     "data": {
      "image/png": "[encoded data removed]",
      "text/plain": [
       "<Figure size 720x720 with 2 Axes>"
      ]
     },
     "metadata": {},
     "output_type": "display_data"
    },
    {
     "name": "stdout",
     "output_type": "stream",
     "text": [
      "79.22\n",
      "72.19\n"
     ]
    }
   ],
   "source": [
    "from sklearn.model_selection import GridSearchCV\n",
    "trainAcc = []\n",
    "testAcc = []\n",
    "##X_train, X_test, y_train, y_test = preprocess_inputs(df)\n",
    "#param kısmında komşular için 20 farklı model deneyerek cross-validated score en yüksek olanı döndürüyor.\n",
    "knn = GridSearchCV(estimator=KNeighborsClassifier(), param_grid={'n_neighbors':np.arange(1,8)}, cv=10)\n",
    "knn = knn.fit(X_train, y_train)\n",
    "pred_knn_train = knn.predict(X_train)\n",
    "pred_knn_test = knn.predict(X_test)\n",
    "    \n",
    "knn_train_accr = round(knn.score(X_train,y_train) * 100, 2)\n",
    "knn_test_accr = round(knn.score(X_test,y_test) * 100, 2)\n",
    "    \n",
    "trainAcc.append(knn_train_accr)\n",
    "testAcc.append(knn_test_accr)   \n",
    "    \n",
    "fig, ax = plt.subplots(figsize=(10,10))\n",
    "sns.heatmap(conf_mat, annot=True, fmt='d')\n",
    "plt.ylabel('Actual')\n",
    "plt.xlabel('Predicted')\n",
    "plt.show()\n",
    "    \n",
    "print(knn_train_accr)\n",
    "print(knn_test_accr)"
   ]
  },
  {
   "cell_type": "code",
   "execution_count": 27,
   "id": "75165ed0",
   "metadata": {},
   "outputs": [
    {
     "data": {
      "image/png": "[encoded data removed]",
      "text/plain": [
       "<Figure size 576x432 with 1 Axes>"
      ]
     },
     "metadata": {},
     "output_type": "display_data"
    }
   ],
   "source": [
    "plt.figure(figsize=(8,6))\n",
    "plt.plot(trainAcc)\n",
    "plt.title('K için optimum komşu değer')\n",
    "plt.ylabel('doğruluk')\n",
    "plt.xlabel('komşu değerleri')\n",
    "plt.show()"
   ]
  },
  {
   "cell_type": "code",
   "execution_count": null,
   "id": "9d9b071d",
   "metadata": {},
   "outputs": [],
   "source": [
    "import matplotlib.pyplot as plt\n",
    "plt.plot(history.history['acc'])\n",
    "plt.plot(history.history['val_acc'])\n",
    "plt.title('Model accuracy')\n",
    "plt.ylabel('Accuracy')\n",
    "plt.xlabel('Epoch')\n",
    "plt.legend(['Train', 'Test'], loc='upper left')\n",
    "plt.show()"
   ]
  },
  {
   "cell_type": "code",
   "execution_count": null,
   "id": "25d40f47",
   "metadata": {},
   "outputs": [],
   "source": [
    "plt.plot(history.history['loss']) plt.plot(history.history['val_loss']) \n",
    "plt.title('Model loss') \n",
    "plt.ylabel('Loss') \n",
    "plt.xlabel('Epoch') \n",
    "plt.legend(['Train', 'Test'], loc='upper left') \n",
    "plt.show()"
   ]
  }
 ],
 "metadata": {
  "kernelspec": {
   "display_name": "Python 3 (ipykernel)",
   "language": "python",
   "name": "python3"
  },
  "language_info": {
   "codemirror_mode": {
    "name": "ipython",
    "version": 3
   },
   "file_extension": ".py",
   "mimetype": "text/x-python",
   "name": "python",
   "nbconvert_exporter": "python",
   "pygments_lexer": "ipython3",
   "version": "3.8.13"
  }
 },
 "nbformat": 4,
 "nbformat_minor": 5
}
