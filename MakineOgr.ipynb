{
 "cells": [
  {
   "cell_type": "markdown",
   "id": "a4811285",
   "metadata": {},
   "source": [
    "### Makine Öğrenmesi\n",
    "\n",
    "#### Muhammed Furkan Baltacı- 218102022"
   ]
  },
  {
   "cell_type": "markdown",
   "id": "2250152d",
   "metadata": {},
   "source": [
    "### İhtiyacımız olacak olan kütüphaneler "
   ]
  },
  {
   "cell_type": "code",
   "execution_count": 10,
   "id": "1d6d7471",
   "metadata": {},
   "outputs": [],
   "source": [
    "import pandas as pd\n",
    "pd.set_option('display.max_columns', None)\n",
    "import numpy as np\n",
    "#import matplotlib.pyplot as plt\n",
    "#import seaborn as sn\n",
    "import sys\n",
    "import matplotlib.pyplot as plt\n",
    "import seaborn as sns \n",
    "#from sklearn.preprocessing import Imputer\n",
    "\n",
    "#np.set_printoptions(threshold=sys.maxsize)\n",
    "import warnings\n",
    "from sklearn.neighbors import KNeighborsClassifier\n",
    "from sklearn.ensemble import RandomForestClassifier\n",
    "from sklearn.metrics import roc_curve\n",
    "from sklearn.metrics import roc_auc_score\n",
    "from sklearn.metrics import confusion_matrix\n",
    "from sklearn.metrics import classification_report, confusion_matrix, roc_curve, roc_auc_score\n",
    "# Sürümden kaynaklı hatalı göz ardı etmek için kullanıyoruz.\n",
    "warnings.filterwarnings('ignore')\n",
    "from sklearn import preprocessing\n",
    "\n",
    "from sklearn.model_selection import train_test_split\n",
    "# Keras specific\n",
    "import keras \n",
    "from keras.models import Sequential\n",
    "from keras.datasets import mnist\n",
    "from keras.layers import Dense\n",
    "#from keras.utils import to_categorical "
   ]
  },
  {
   "cell_type": "markdown",
   "id": "5e06f3e1",
   "metadata": {},
   "source": [
    "## Verilerin Okunması Ve Hazırlanması"
   ]
  },
  {
   "cell_type": "code",
   "execution_count": 105,
   "id": "117b366e",
   "metadata": {
    "scrolled": false
   },
   "outputs": [],
   "source": [
    "df=pd.read_csv('emotions.csv')\n",
    "    \n",
    "sample=df['label']\n",
    "\n",
    "label_mapping = {'NEGATIVE': 0, 'NEUTRAL': 1, 'POSITIVE': 2}\n",
    "\n",
    "#y = df[\"Number of Credit Problems\"].values.reshape(-1,1)  #sütun haline getirdik\n",
    "#x = df.drop([\"\"],axis=1)\n"
   ]
  },
  {
   "cell_type": "code",
   "execution_count": 93,
   "id": "67d763a1",
   "metadata": {
    "scrolled": false
   },
   "outputs": [],
   "source": [
    "def preprocess_inputs(df):\n",
    "    df = df.copy()\n",
    "    \n",
    "    df['label'] = df['label'].replace(label_mapping)\n",
    "    \n",
    "    y = df['label'].copy()\n",
    "    X = df.drop('label', axis=1).copy()\n",
    "    print(\"Toplam çıkış\",y.shape)\n",
    "    print(\"Toplam giriş\",X.shape)\n",
    "    #Not : train_test_split fonksiyonu verileri random olarak böler. Aynı bölünmeyi tekrar elde edebilmek için rastgele belirlediğimiz random_state parametresi kullanılır.\n",
    "    #train_test_split () sklearn'de kullanıcıların verilerini eğitim ve test setlerine bölmelerine olanak tanıyan bir yöntemdir.\n",
    "    X_train, X_test, y_train, y_test = train_test_split(X, y, train_size=0.7, random_state=123)\n",
    "    \n",
    "    return X_train, X_test, y_train, y_test"
   ]
  },
  {
   "cell_type": "code",
   "execution_count": 94,
   "id": "12fb24fe",
   "metadata": {},
   "outputs": [
    {
     "name": "stdout",
     "output_type": "stream",
     "text": [
      "Toplam çıkış (2132,)\n",
      "Toplam giriş (2132, 2548)\n",
      "Eğitim için giriş verilerinin boyutu (1492, 2548)\n",
      "Test için giriş verilerinin boyutu (640, 2548)\n",
      "Eğitim için çıkış verilerinin boyutu (1492,)\n",
      "Test için çıkış verilerinin boyutu (640,)\n"
     ]
    }
   ],
   "source": [
    "X_train, X_test, y_train, y_test = preprocess_inputs(df)\n",
    "\n",
    "print(\"Eğitim için giriş verilerinin boyutu\",X_train.shape)\n",
    "print(\"Test için giriş verilerinin boyutu\",X_test.shape)\n",
    "print(\"Eğitim için çıkış verilerinin boyutu\",y_train.shape)\n",
    "print(\"Test için çıkış verilerinin boyutu\",y_test.shape)\n"
   ]
  },
  {
   "cell_type": "markdown",
   "id": "4441041c",
   "metadata": {},
   "source": [
    "## Yapay Sinir Ağı Modeli ile Sınıflandırma"
   ]
  },
  {
   "cell_type": "code",
   "execution_count": 95,
   "id": "7e1241d7",
   "metadata": {},
   "outputs": [
    {
     "name": "stdout",
     "output_type": "stream",
     "text": [
      "Model: \"sequential_4\"\n",
      "_________________________________________________________________\n",
      "Layer (type)                 Output Shape              Param #   \n",
      "=================================================================\n",
      "dense_16 (Dense)             (None, 64)                163136    \n",
      "_________________________________________________________________\n",
      "dense_17 (Dense)             (None, 32)                2080      \n",
      "_________________________________________________________________\n",
      "dense_18 (Dense)             (None, 32)                1056      \n",
      "_________________________________________________________________\n",
      "dense_19 (Dense)             (None, 3)                 99        \n",
      "=================================================================\n",
      "Total params: 166,371\n",
      "Trainable params: 166,371\n",
      "Non-trainable params: 0\n",
      "_________________________________________________________________\n"
     ]
    }
   ],
   "source": [
    "# Dense - Düğümlerimiz, activation- aktivasyon fonksiyonlarımız \n",
    "# Aktivasyon fonksiyonları çok katmanlı yapay sinir ağlarında doğrusal olmayan (non-linear) dönüşüm işlemleri için kullanılmaktadır.\n",
    "model = Sequential()\n",
    "model.add(Dense(64, activation='relu', input_dim=2548))\n",
    "model.add(Dense(32, activation='relu'))\n",
    "model.add(Dense(32, activation='relu'))\n",
    "model.add(Dense(3, activation='softmax'))\n",
    "\n",
    "#Y_train = np.asarray(Y_train).astype('float32')\n",
    "# Compile the model\n",
    "from tensorflow import keras\n",
    "import tensorflow as tf\n",
    "\n",
    "#categorical_crossentropy          sparse_categorical_crossentropy\n",
    "#[1,0,0]                             1\n",
    "#[0,1,0]                             2\n",
    "#[0,0,1]                             3\n",
    "# optimizer öğrenme hızını belirleyen algoritma 'adam' learnig-rate = 0.001 den 0.0001 e değişerek gider\n",
    "model.compile(loss=\"sparse_categorical_crossentropy\", optimizer='adam', metrics=['accuracy'])\n",
    "model.summary()\n",
    "\n"
   ]
  },
  {
   "cell_type": "code",
   "execution_count": 96,
   "id": "b96f0704",
   "metadata": {},
   "outputs": [
    {
     "name": "stdout",
     "output_type": "stream",
     "text": [
      "Epoch 1/10\n",
      "33/33 [==============================] - 3s 79ms/step - loss: 16911020589056.0000 - accuracy: 0.5852 - val_loss: 6358480977920.0000 - val_accuracy: 0.5112\n",
      "Epoch 2/10\n",
      "33/33 [==============================] - 0s 3ms/step - loss: 15412393672704.0000 - accuracy: 0.6111 - val_loss: 20317745446912.0000 - val_accuracy: 0.6853\n",
      "Epoch 3/10\n",
      "33/33 [==============================] - 0s 3ms/step - loss: 5758644649984.0000 - accuracy: 0.5680 - val_loss: 53448393359360.0000 - val_accuracy: 0.5335\n",
      "Epoch 4/10\n",
      "33/33 [==============================] - 0s 4ms/step - loss: 15725979762688.0000 - accuracy: 0.5613 - val_loss: 47468494454784.0000 - val_accuracy: 0.6384\n",
      "Epoch 5/10\n",
      "33/33 [==============================] - 0s 3ms/step - loss: 4678709936128.0000 - accuracy: 0.6140 - val_loss: 1593817694208.0000 - val_accuracy: 0.4062\n",
      "Epoch 6/10\n",
      "33/33 [==============================] - 0s 3ms/step - loss: 1098831298560.0000 - accuracy: 0.6188 - val_loss: 565973811200.0000 - val_accuracy: 0.6853\n",
      "Epoch 7/10\n",
      "33/33 [==============================] - 0s 4ms/step - loss: 8006729203712.0000 - accuracy: 0.6533 - val_loss: 58772017905664.0000 - val_accuracy: 0.6295\n",
      "Epoch 8/10\n",
      "33/33 [==============================] - 0s 3ms/step - loss: 14275271720960.0000 - accuracy: 0.6676 - val_loss: 26250124984320.0000 - val_accuracy: 0.6897\n",
      "Epoch 9/10\n",
      "33/33 [==============================] - 0s 4ms/step - loss: 16978646401024.0000 - accuracy: 0.6992 - val_loss: 30970617004032.0000 - val_accuracy: 0.7098\n",
      "Epoch 10/10\n",
      "33/33 [==============================] - 0s 4ms/step - loss: 16020464992256.0000 - accuracy: 0.6839 - val_loss: 97279675465728.0000 - val_accuracy: 0.6406\n"
     ]
    }
   ],
   "source": [
    "# validationı arttırdığımızda yani eğitim için data sayısını arttırdığımızda acc oranı artar\n",
    "# batch_size, bir seferde yapay sinir ağını eğitmek için kullanılacak örnek sayısını belirtir.\n",
    "# epoch, bütün veri kümesinin yapay sinir ağından bir kere geçmesi ise bir devir olarak adlandırılır.\n",
    "history = model.fit(X_train, y_train,validation_split=0.3, batch_size=32,  epochs=10) "
   ]
  },
  {
   "cell_type": "code",
   "execution_count": 97,
   "id": "48f6bc18",
   "metadata": {},
   "outputs": [
    {
     "name": "stdout",
     "output_type": "stream",
     "text": [
      "20/20 [==============================] - 0s 2ms/step - loss: 66931369443328.0000 - accuracy: 0.6516\n",
      "Test loss: 66931369443328.0\n",
      "Test accuracy: 0.651562511920929\n",
      "Test Accuracy: 65.16%\n"
     ]
    },
    {
     "data": {
      "image/png": "[encoded data removed]",
      "text/plain": [
       "<Figure size 432x288 with 1 Axes>"
      ]
     },
     "metadata": {},
     "output_type": "display_data"
    }
   ],
   "source": [
    "plt.plot(history.history['accuracy'])\n",
    "plt.legend(['accuracy'])\n",
    "\n",
    "# accurancy ve loss değerlerinin 2.türlü bulunuşu\n",
    "score=model.evaluate(X_test, y_test)\n",
    "\n",
    "print('Test loss:', score[0]) \n",
    "print('Test accuracy:', score[1])\n",
    "\n",
    "model_acc = model.evaluate(X_test, y_test, verbose=0)[1]\n",
    "print(\"Test Accuracy: {:.2f}%\".format(model_acc * 100))\n",
    "\n",
    "pred=model.predict(X_test)\n"
   ]
  },
  {
   "cell_type": "markdown",
   "id": "241ac30b",
   "metadata": {},
   "source": [
    "##  Naif Bayes\n",
    "\n",
    "#### Naif(Naïve) Bayes sınıflandırması olasılık ilkelerine göre tanımlanmış bir dizi hesaplama ile, sisteme sunulan verilerin sınıfını yani kategorisini tespit etmeyi amaçlar."
   ]
  },
  {
   "cell_type": "code",
   "execution_count": 98,
   "id": "1aba1722",
   "metadata": {},
   "outputs": [],
   "source": [
    "from sklearn.naive_bayes import GaussianNB\n",
    "from sklearn.metrics import confusion_matrix, accuracy_score,mean_absolute_error,accuracy_score\n",
    "\n",
    "gauss = GaussianNB().fit(X_train,y_train)\n",
    "pred_gauss_train = gauss.predict(X_train)\n",
    "pred_gauss_test = gauss.predict(X_test)\n",
    "\n",
    "# Train accuracy\n",
    "gauss_train_accr = round(gauss.score(X_train,y_train) * 100, 2)\n",
    "gauss_test_accr = round(gauss.score(X_test,y_test) * 100, 2)\n",
    "\n",
    "# Error rate\n",
    "gauss_train_mae = round((mean_absolute_error(y_train, pred_gauss_train) * 100), 2)\n",
    "gauss_test_mae = round((mean_absolute_error(y_test, pred_gauss_test) * 100), 2)"
   ]
  },
  {
   "cell_type": "code",
   "execution_count": 99,
   "id": "3f3085a6",
   "metadata": {
    "scrolled": true
   },
   "outputs": [
    {
     "name": "stdout",
     "output_type": "stream",
     "text": [
      "Gauss-Eğitim dogruluk oranı : %39.95\n",
      "Gauss-Test dogruluk oranı : %43.75\n"
     ]
    }
   ],
   "source": [
    "print(\"Gauss-Eğitim dogruluk oranı : %{}\".format(gauss_train_accr))\n",
    "print(\"Gauss-Test dogruluk oranı : %{}\".format(gauss_test_accr))\n"
   ]
  },
  {
   "cell_type": "code",
   "execution_count": 100,
   "id": "9926b383",
   "metadata": {},
   "outputs": [
    {
     "name": "stdout",
     "output_type": "stream",
     "text": [
      "CONFUSION MATRİX\n"
     ]
    },
    {
     "data": {
      "image/png": "[encoded data removed]",
      "text/plain": [
       "<Figure size 432x288 with 1 Axes>"
      ]
     },
     "metadata": {},
     "output_type": "display_data"
    },
    {
     "data": {
      "image/png": "[encoded data removed]",
      "text/plain": [
       "<Figure size 648x504 with 2 Axes>"
      ]
     },
     "metadata": {},
     "output_type": "display_data"
    }
   ],
   "source": [
    "import matplotlib.pyplot as plt\n",
    "import seaborn as sns \n",
    "\n",
    "plt.plot(history.history['accuracy'])\n",
    "plt.legend(['accuracy'])\n",
    "\n",
    "print(\"CONFUSION MATRİX\")\n",
    "\n",
    "sns.set(style='white')\n",
    "conf_mat = confusion_matrix(y_test, pred_gauss_test)\n",
    "fig, ax = plt.subplots(figsize=(9,7))\n",
    "sns.heatmap(conf_mat, annot=True, fmt='d')\n",
    "plt.ylabel('Gerçek')\n",
    "plt.xlabel('Tahmin')\n",
    "plt.show()\n",
    "\n",
    "\n"
   ]
  },
  {
   "cell_type": "markdown",
   "id": "3b0e3475",
   "metadata": {},
   "source": [
    "## K-En Yakın Komşular\n",
    "\n",
    "#### K-En yakın komşu algoritmaları, kullanılabilen tüm veri noktalarını depolayıp bir uzaklık işleviyle ölçüldüğü gibi her yeni veri noktasını buna en yakın olan veri noktalarını temel alarak sınıflandırır."
   ]
  },
  {
   "cell_type": "code",
   "execution_count": 101,
   "id": "915fb309",
   "metadata": {},
   "outputs": [
    {
     "data": {
      "image/png": "[encoded data removed]",
      "text/plain": [
       "<Figure size 576x576 with 2 Axes>"
      ]
     },
     "metadata": {},
     "output_type": "display_data"
    },
    {
     "name": "stdout",
     "output_type": "stream",
     "text": [
      "Knn-Eğitim dogruluk oranı : %79.22\n",
      "Knn-Test dogruluk oranı : %72.19\n"
     ]
    }
   ],
   "source": [
    "from sklearn.model_selection import GridSearchCV\n",
    "trainAcc = []\n",
    "testAcc = []\n",
    "##X_train, X_test, y_train, y_test = preprocess_inputs(df)\n",
    "#param kısmında komşular için 20 farklı model deneyerek cross-validated score en yüksek olanı döndürüyor.\n",
    "knn = GridSearchCV(estimator=KNeighborsClassifier(), param_grid={'n_neighbors':np.arange(1,8)}, cv=10)\n",
    "knn = knn.fit(X_train, y_train)\n",
    "pred_knn_train = knn.predict(X_train)\n",
    "pred_knn_test = knn.predict(X_test)\n",
    "    \n",
    "knn_train_accr = round(knn.score(X_train,y_train) * 100, 2)\n",
    "knn_test_accr = round(knn.score(X_test,y_test) * 100, 2)\n",
    "    \n",
    "trainAcc.append(knn_train_accr)\n",
    "testAcc.append(knn_test_accr)   \n",
    "    \n",
    "fig, ax = plt.subplots(figsize=(8,8))\n",
    "sns.heatmap(conf_mat, annot=True, fmt='d')\n",
    "plt.ylabel('Gerçek')\n",
    "plt.xlabel('Tahmin')\n",
    "plt.show()\n",
    "    \n",
    "    \n",
    "print(\"Knn-Eğitim dogruluk oranı : %{}\".format(knn_train_accr))\n",
    "print(\"Knn-Test dogruluk oranı : %{}\".format(knn_test_accr))\n",
    "\n"
   ]
  },
  {
   "cell_type": "markdown",
   "id": "2b8bbddb",
   "metadata": {},
   "source": [
    "## Random Forest Sınıflandırma\n",
    "\n",
    " #### Random forest, birden fazla karar ağacını kullanarak daha uyumlu modeller üreterek daha isabetli sınıflandırma yapmaya çalışan bir sınıflandırma modelidir."
   ]
  },
  {
   "cell_type": "code",
   "execution_count": 102,
   "id": "25d40f47",
   "metadata": {},
   "outputs": [],
   "source": [
    "import pandas as pd\n",
    "from sklearn.datasets import load_wine\n",
    "from sklearn.model_selection import train_test_split\n",
    "from sklearn.ensemble import RandomForestClassifier\n",
    "from sklearn.metrics import accuracy_score"
   ]
  },
  {
   "cell_type": "code",
   "execution_count": 103,
   "id": "38d521ee",
   "metadata": {},
   "outputs": [
    {
     "name": "stdout",
     "output_type": "stream",
     "text": [
      "Accuracy score for random_state = 123 : 0.9765625\n",
      "[[196   0   5]\n",
      " [  0 229   2]\n",
      " [  7   1 200]]\n"
     ]
    },
    {
     "data": {
      "image/png": "[encoded data removed]",
      "text/plain": [
       "<Figure size 432x288 with 2 Axes>"
      ]
     },
     "metadata": {},
     "output_type": "display_data"
    }
   ],
   "source": [
    "rf_model = RandomForestClassifier()\n",
    "rf_model.fit(X_train, y_train)\n",
    "\n",
    "\n",
    "y_pred = rf_model.predict(X_test)\n",
    "\n",
    "accuracy_score(y_test, y_pred)\n",
    "print('Accuracy score for random_state = 123 : ' + str(accuracy_score(y_test, y_pred)))\n",
    "\n",
    "conf_mat = confusion_matrix(y_test, y_pred)\n",
    "\n",
    "print(conf_mat)\n",
    "\n",
    "import seaborn\n",
    "seaborn.heatmap(conf_mat)\n",
    "plt.ylabel('Gerçek')\n",
    "plt.xlabel('Tahmin')\n",
    "plt.show()"
   ]
  },
  {
   "cell_type": "markdown",
   "id": "ea5251bb",
   "metadata": {},
   "source": [
    "## Destek Vektörü Makineleri(Support Vector Machine) Sınıflandırma \n",
    "\n",
    "#### Birbirine en yakın olan veri noktaları arasında bir hiper düzlem çizer. Bu, sınıfları ayırır ve bunların daha net şekilde ayırt edilmesi için aralarındaki mesafeyi en yükseğe çıkarır. Sınıflandırmayı sınırdaki elemanlara göre yapar."
   ]
  },
  {
   "cell_type": "code",
   "execution_count": 79,
   "id": "7f920ece",
   "metadata": {},
   "outputs": [],
   "source": [
    "# input olarak vereceğimiz dataların aralıklarını(0-90 ile 0-250.000 olmamalı) bir birine daha yakın tutmak için feature scaling yapılmalı.\n",
    "from sklearn.preprocessing import StandardScaler\n",
    "sc_X = StandardScaler()\n",
    "X_train = sc_X.fit_transform(X_train)\n",
    "X_test = sc_X.transform(X_test)"
   ]
  },
  {
   "cell_type": "code",
   "execution_count": 83,
   "id": "2490e00c",
   "metadata": {},
   "outputs": [
    {
     "data": {
      "text/plain": [
       "SVC(random_state=1)"
      ]
     },
     "execution_count": 83,
     "metadata": {},
     "output_type": "execute_result"
    }
   ],
   "source": [
    " # Svc sınıfından modelimizi oluşturup, giriş ve çıkış verilerimizle eğitiyoruz.\n",
    "from sklearn.svm import SVC\n",
    "#her zaman aynı değere ulaşabilmek için random_state verilmektedir.\n",
    "#SVM'nin verileri doğrusal sınıflandırma yapamdığı durumlarda bu kernel yapısını kullanıyoruz.(Ekstra boyut ekleyerek rahat çizgi çizmesini sağlıyor.)\n",
    "classifier = SVC(kernel='rbf', random_state = 1) #‘linear’, ‘poly’, ‘(default)rbf’, ‘sigmoid’, ‘precomputed’ \n",
    "classifier.fit(X_train, y_train)"
   ]
  },
  {
   "cell_type": "code",
   "execution_count": 84,
   "id": "ea9ebafa",
   "metadata": {},
   "outputs": [],
   "source": [
    "y_pred = classifier.predict(X_test)"
   ]
  },
  {
   "cell_type": "code",
   "execution_count": 86,
   "id": "18368b16",
   "metadata": {},
   "outputs": [
    {
     "name": "stdout",
     "output_type": "stream",
     "text": [
      "[[419  13]\n",
      " [ 24 184]]\n"
     ]
    },
    {
     "data": {
      "image/png": "[encoded data removed]",
      "text/plain": [
       "<Figure size 432x288 with 2 Axes>"
      ]
     },
     "metadata": {},
     "output_type": "display_data"
    },
    {
     "name": "stdout",
     "output_type": "stream",
     "text": [
      "0.9421875\n"
     ]
    },
    {
     "data": {
      "image/png": "[encoded data removed]",
      "text/plain": [
       "<Figure size 432x288 with 2 Axes>"
      ]
     },
     "metadata": {},
     "output_type": "display_data"
    }
   ],
   "source": [
    "from sklearn.metrics import confusion_matrix\n",
    "cm = confusion_matrix(y_test, y_pred)\n",
    "print(cm)\n",
    "seaborn.heatmap(cm)\n",
    "plt.ylabel('Gerçek')\n",
    "plt.xlabel('Tahmin')\n",
    "plt.show()\n",
    "\n",
    "from sklearn.metrics import accuracy_score\n",
    "accuracy = accuracy_score(y_test, y_pred)\n",
    "\n",
    "print(accuracy)\n",
    "\n",
    "plot_confusion_matrix(cm)\n",
    "\n",
    "#Not = değerler 0,1,2 gibi output değerleri yerine 0,1 output değeri ile eğitildiğinde doğruluk oranında artış olmaktadır."
   ]
  },
  {
   "cell_type": "markdown",
   "id": "3d2299a4",
   "metadata": {},
   "source": [
    "## Lojistik Regrasyon \n",
    "\n",
    "#### Sadece ikili sonuclarda sınıflandırma yapar. Evet/Hayır   --- Erkek/ Kadın ---  Zayıf/Şişman vb.\n",
    "\n",
    "#### Sınıflandırılacak veri çıktımız 3 olduğu için dataların çıktılarını 2 olacak şekilde ayarlayıp işleme sokalım."
   ]
  },
  {
   "cell_type": "code",
   "execution_count": 74,
   "id": "ca6acb33",
   "metadata": {},
   "outputs": [
    {
     "name": "stdout",
     "output_type": "stream",
     "text": [
      "Toplam çıkış (2132,)\n",
      "Toplam giriş (2132, 2548)\n"
     ]
    }
   ],
   "source": [
    "label_mapping = {'NEGATIVE': 0, 'NEUTRAL': 0, 'POSITIVE': 1}\n",
    "\n",
    "def preprocessfor_binary(df):\n",
    "    df = df.copy()\n",
    "    \n",
    "    df['label'] = df['label'].replace(label_mapping)\n",
    "    \n",
    "    y = df['label'].copy()\n",
    "    X = df.drop('label', axis=1).copy()\n",
    "    print(\"Toplam çıkış\",y.shape)\n",
    "    print(\"Toplam giriş\",X.shape)\n",
    "    #Not : train_test_split fonksiyonu verileri random olarak böler. Aynı bölünmeyi tekrar elde edebilmek için rastgele belirlediğimiz random_state parametresi kullanılır.\n",
    "    #train_test_split () sklearn'de kullanıcıların verilerini eğitim ve test setlerine bölmelerine olanak tanıyan bir yöntemdir.\n",
    "    X_train, X_test, y_train, y_test = train_test_split(X, y, train_size=0.8, random_state=123)\n",
    "    \n",
    "    return X_train, X_test, y_train, y_test\n",
    "\n",
    "\n",
    "X_train, X_test, y_train, y_test = preprocess_inputs(df)\n",
    "\n"
   ]
  },
  {
   "cell_type": "code",
   "execution_count": 75,
   "id": "cd7edae9",
   "metadata": {},
   "outputs": [
    {
     "data": {
      "text/plain": [
       "array([1, 1, 1, 1, 1, 1, 1, 1, 1, 1, 1, 1, 1, 1, 1, 1, 1, 1, 1, 1, 1, 0,\n",
       "       1, 1, 1, 1, 1, 0, 1, 0, 1, 1, 1, 1, 1, 1, 1, 1, 1, 0, 1, 0, 1, 1,\n",
       "       1, 1, 1, 1, 0, 1, 1, 1, 1, 1, 1, 1, 1, 1, 1, 1, 1, 1, 1, 1, 0, 1,\n",
       "       0, 0, 1, 1, 1, 1, 1, 1, 1, 1, 1, 1, 1, 1, 1, 1, 1, 1, 1, 0, 1, 1,\n",
       "       1, 1, 1, 1, 1, 1, 1, 1, 1, 1, 1, 1, 1, 1, 1, 1, 1, 1, 1, 1, 0, 1,\n",
       "       1, 1, 0, 1, 1, 1, 1, 1, 1, 1, 1, 1, 1, 1, 1, 1, 1, 1, 1, 1, 1, 1,\n",
       "       1, 1, 1, 1, 1, 1, 1, 1, 1, 1, 1, 1, 1, 1, 1, 1, 1, 1, 1, 1, 1, 1,\n",
       "       1, 1, 0, 0, 1, 1, 1, 1, 1, 1, 1, 1, 1, 1, 1, 1, 1, 1, 1, 1, 1, 1,\n",
       "       1, 1, 1, 0, 1, 1, 1, 1, 0, 1, 1, 1, 1, 1, 1, 1, 1, 1, 1, 1, 1, 1,\n",
       "       0, 1, 1, 1, 1, 1, 1, 1, 0, 1, 1, 1, 1, 1, 1, 1, 1, 1, 1, 1, 1, 1,\n",
       "       1, 1, 1, 1, 1, 1, 1, 1, 1, 0, 1, 1, 1, 1, 1, 1, 1, 1, 1, 0, 1, 1,\n",
       "       1, 1, 1, 1, 1, 1, 1, 1, 0, 1, 1, 1, 1, 1, 1, 1, 1, 1, 1, 1, 1, 1,\n",
       "       1, 1, 1, 1, 1, 1, 0, 1, 1, 1, 1, 1, 1, 1, 1, 1, 1, 1, 1, 1, 1, 1,\n",
       "       0, 1, 0, 1, 1, 1, 1, 1, 1, 1, 1, 1, 1, 1, 1, 1, 1, 1, 1, 1, 1, 1,\n",
       "       1, 1, 1, 1, 1, 1, 1, 1, 1, 1, 1, 1, 1, 1, 1, 1, 1, 1, 1, 1, 1, 1,\n",
       "       1, 1, 1, 1, 1, 1, 1, 1, 1, 1, 1, 1, 1, 1, 1, 1, 1, 1, 1, 1, 1, 1,\n",
       "       1, 1, 1, 1, 1, 1, 1, 1, 1, 1, 1, 1, 1, 1, 1, 1, 1, 1, 1, 1, 1, 1,\n",
       "       1, 1, 1, 1, 1, 1, 1, 1, 1, 1, 1, 1, 1, 1, 1, 1, 1, 1, 1, 1, 1, 1,\n",
       "       1, 1, 1, 1, 1, 1, 1, 1, 1, 1, 1, 1, 1, 1, 1, 1, 1, 1, 1, 1, 1, 1,\n",
       "       1, 1, 1, 1, 1, 1, 1, 1, 1, 1, 1, 1, 1, 1, 1, 1, 1, 1, 1, 1, 1, 1,\n",
       "       1, 1, 1, 1, 1, 1, 1, 1, 1, 1, 1, 1, 1, 1, 1, 1, 1, 1, 1, 1, 1, 1,\n",
       "       1, 1, 1, 1, 1, 1, 1, 1, 1, 1, 1, 1, 1, 1, 1, 1, 1, 1, 1, 1, 1, 1,\n",
       "       1, 1, 1, 1, 1, 1, 1, 1, 1, 1, 1, 1, 0, 1, 1, 1, 1, 1, 1, 1, 1, 1,\n",
       "       1, 1, 1, 1, 1, 1, 1, 1, 1, 1, 1, 1, 1, 1, 0, 1, 1, 1, 1, 1, 1, 1,\n",
       "       1, 1, 1, 1, 0, 1, 1, 1, 1, 1, 1, 1, 1, 1, 1, 1, 1, 1, 1, 1, 1, 1,\n",
       "       1, 1, 1, 1, 1, 1, 1, 1, 1, 1, 1, 1, 1, 1, 1, 1, 1, 1, 1, 1, 1, 1,\n",
       "       1, 1, 1, 1, 1, 1, 1, 1, 1, 1, 1, 1, 1, 1, 1, 1, 1, 1, 1, 1, 1, 1,\n",
       "       1, 1, 0, 1, 1, 1, 1, 1, 1, 1, 1, 1, 1, 1, 1, 1, 1, 1, 1, 1, 1, 1,\n",
       "       1, 1, 1, 1, 1, 1, 1, 1, 1, 1, 1, 1, 1, 1, 1, 0, 0, 1, 1, 1, 1, 1,\n",
       "       1, 1], dtype=int64)"
      ]
     },
     "execution_count": 75,
     "metadata": {},
     "output_type": "execute_result"
    }
   ],
   "source": [
    "# LogisticRegression sınıfını import ettik\n",
    "from sklearn.linear_model import LogisticRegression\n",
    "\n",
    "# LogisticRegression sınıfından bir nesne ürettik\n",
    "lr = LogisticRegression(random_state=123,class_weight = 'balanced')\n",
    "\n",
    "# Makinemizi eğittik\n",
    "lr.fit(X_train,y_train)\n",
    "\n",
    "# Test veri kümemizi verdik ve cinsiyet tahmin etmesini sağladık\n",
    "result = lr.predict(X_test)\n",
    "\n",
    "result"
   ]
  },
  {
   "cell_type": "code",
   "execution_count": 76,
   "id": "02338dba",
   "metadata": {},
   "outputs": [
    {
     "name": "stdout",
     "output_type": "stream",
     "text": [
      "[[ 14 418]\n",
      " [ 16 192]]\n"
     ]
    },
    {
     "data": {
      "image/png": "[encoded data removed]",
      "text/plain": [
       "<Figure size 432x288 with 2 Axes>"
      ]
     },
     "metadata": {},
     "output_type": "display_data"
    }
   ],
   "source": [
    "from sklearn.metrics import confusion_matrix\n",
    "# Parametre olarak karşılaştıracağımız verileri giriyoruz.\n",
    "# y_test : Cinsiyet Test Verisi\n",
    "# result : x_test verisinden tahmin ettiğimiz cinsiyet verileri\n",
    "cm = confusion_matrix(y_test,result)\n",
    "print(cm)\n",
    "\n",
    "import seaborn\n",
    "seaborn.heatmap(cm)\n",
    "plt.ylabel('Gerçek')\n",
    "plt.xlabel('Tahmin')\n",
    "plt.show()"
   ]
  },
  {
   "cell_type": "code",
   "execution_count": 104,
   "id": "cf9a5c53",
   "metadata": {},
   "outputs": [],
   "source": [
    "#confusion \n",
    "def plot_confusion_matrix(cm, cmap=plt.cm.Blues):\n",
    "    plt.imshow(cm, interpolation='nearest', cmap=cmap)\n",
    "    plt.title(\"Confusion Matrix\")\n",
    "    plt.colorbar()\n",
    "    tick_marks = np.arange(2)\n",
    "    plt.xticks(tick_marks, [0,1])\n",
    "    plt.yticks(tick_marks, [0,1])\n",
    "    plt.tight_layout()\n",
    "    plt.ylabel('Beklenen Değerler')\n",
    "    plt.xlabel('Tahmini Değerler')"
   ]
  },
  {
   "cell_type": "code",
   "execution_count": null,
   "id": "770acce6",
   "metadata": {},
   "outputs": [],
   "source": []
  }
 ],
 "metadata": {
  "kernelspec": {
   "display_name": "Python 3 (ipykernel)",
   "language": "python",
   "name": "python3"
  },
  "language_info": {
   "codemirror_mode": {
    "name": "ipython",
    "version": 3
   },
   "file_extension": ".py",
   "mimetype": "text/x-python",
   "name": "python",
   "nbconvert_exporter": "python",
   "pygments_lexer": "ipython3",
   "version": "3.8.13"
  }
 },
 "nbformat": 4,
 "nbformat_minor": 5
}
