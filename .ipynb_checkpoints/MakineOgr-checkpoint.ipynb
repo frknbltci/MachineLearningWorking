{
 "cells": [
  {
   "cell_type": "markdown",
   "id": "a4811285",
   "metadata": {},
   "source": [
    "### Makine Öğrenmesi\n"
   ]
  },
  {
   "cell_type": "markdown",
   "id": "2250152d",
   "metadata": {},
   "source": [
    "### İhtiyacımız olacak olan kütüphaneler "
   ]
  },
  {
   "cell_type": "code",
   "execution_count": 59,
   "id": "1d6d7471",
   "metadata": {},
   "outputs": [],
   "source": [
    "import pandas as pd\n",
    "pd.set_option('display.max_columns', None)\n",
    "import numpy as np\n",
    "#import matplotlib.pyplot as plt\n",
    "#import seaborn as sn\n",
    "import sys\n",
    "#from sklearn.preprocessing import Imputer\n",
    "\n",
    "#np.set_printoptions(threshold=sys.maxsize)\n",
    "import warnings\n",
    "from sklearn.neighbors import KNeighborsClassifier\n",
    "from sklearn.ensemble import RandomForestClassifier\n",
    "from sklearn.metrics import roc_curve\n",
    "from sklearn.metrics import roc_auc_score\n",
    "from sklearn.metrics import confusion_matrix\n",
    "from sklearn.metrics import classification_report, confusion_matrix, roc_curve, roc_auc_score\n",
    "# Sürümden kaynaklı hatalı göz ardı etmek için kullanıyoruz.\n",
    "warnings.filterwarnings('ignore')\n",
    "from sklearn import preprocessing\n",
    "\n",
    "from sklearn.model_selection import train_test_split\n",
    "# Keras specific\n",
    "import keras \n",
    "from keras.models import Sequential\n",
    "from keras.datasets import mnist\n",
    "from keras.layers import Dense\n",
    "#from keras.utils import to_categorical "
   ]
  },
  {
   "cell_type": "markdown",
   "id": "ff09a3e2",
   "metadata": {},
   "source": [
    "## Sonuçların Analizi İçin İhtiyacımız Olan Fonksiyonlar"
   ]
  },
  {
   "cell_type": "code",
   "execution_count": 60,
   "id": "4068dbc7",
   "metadata": {},
   "outputs": [],
   "source": [
    "#plotcurve \n",
    "def plot_roc_curve(fpr, tpr, auc_score):\n",
    "    plt.plot(fpr, tpr, color='orange', label='ROC')\n",
    "    plt.plot([0, 1], [0, 1], color='darkblue', linestyle='--')\n",
    "    plt.xlabel('False Positive Oran')\n",
    "    plt.ylabel('True Positive Oran')\n",
    "    plt.title('Roc Curve\\nAuc Score:{}'.format(round((auc_score * 100),2)))\n",
    "    plt.legend()\n",
    "    plt.show()\n",
    "    \n",
    "#confusion \n",
    "def plot_confusion_matrix(cm, cmap=plt.cm.Blues):\n",
    "    plt.imshow(cm, interpolation='nearest', cmap=cmap)\n",
    "    plt.title(\"Confusion Matrix\")\n",
    "    plt.colorbar()\n",
    "    tick_marks = np.arange(2)\n",
    "    plt.xticks(tick_marks, [0,1])\n",
    "    plt.yticks(tick_marks, [0,1])\n",
    "    plt.tight_layout()\n",
    "    plt.ylabel('Beklenen Değerler')\n",
    "    plt.xlabel('Tahmini Değerler')"
   ]
  },
  {
   "cell_type": "code",
   "execution_count": 120,
   "id": "117b366e",
   "metadata": {
    "scrolled": false
   },
   "outputs": [],
   "source": [
    "\n",
    "df=pd.read_csv('emotions.csv')\n",
    "        \n",
    "df    \n",
    "\n",
    "dataset = df.values\n",
    "    \n",
    "dataset\n",
    "\n",
    "\n",
    "sample=df['label']\n",
    "\n",
    "\n",
    "label_mapping = {'NEGATIVE': 0, 'NEUTRAL': 1, 'POSITIVE': 2}\n",
    "\n",
    "#print(df.shape)\n",
    "#print(df.head(15))\n",
    "#df.describe()\n",
    "\n",
    "#y = df[\"Number of Credit Problems\"].values.reshape(-1,1)  #sütun haline getirdik\n",
    "\n",
    "# x = df.drop([\"Loan ID\",\"Customer ID\"\n",
    "#             ],axis=1)\n",
    "#print(x.head(5))\n",
    "\n",
    "#print(y.shape)\n",
    "#print(type(y))\n",
    "\n",
    "#last=df[\"Months since last delinquent\"].values.reshape(-1,1)\n",
    "\n",
    "\n",
    "\n",
    "#print(x)\n",
    "\n",
    "\n",
    "\n"
   ]
  },
  {
   "cell_type": "code",
   "execution_count": 121,
   "id": "67d763a1",
   "metadata": {
    "scrolled": false
   },
   "outputs": [],
   "source": [
    "def preprocess_inputs(df):\n",
    "    df = df.copy()\n",
    "    \n",
    "    df['label'] = df['label'].replace(label_mapping)\n",
    "    \n",
    "    y = df['label'].copy()\n",
    "    X = df.drop('label', axis=1).copy()\n",
    "    print(\"Toplam çıkış\",y.shape)\n",
    "    print(\"Toplam giriş\",X.shape)\n",
    "    #Not : train_test_split fonksiyonu verileri random olarak böler. Aynı bölünmeyi tekrar elde edebilmek için rastgele belirlediğimiz random_state parametresi kullanılır.\n",
    "    #train_test_split () sklearn'de kullanıcıların verilerini eğitim ve test setlerine bölmelerine olanak tanıyan bir yöntemdir.\n",
    "    X_train, X_test, y_train, y_test = train_test_split(X, y, train_size=0.7, random_state=123)\n",
    "    \n",
    "    return X_train, X_test, y_train, y_test"
   ]
  },
  {
   "cell_type": "code",
   "execution_count": 122,
   "id": "12fb24fe",
   "metadata": {},
   "outputs": [
    {
     "name": "stdout",
     "output_type": "stream",
     "text": [
      "Toplam çıkış (2132,)\n",
      "Toplam giriş (2132, 2548)\n",
      "Eğitim için giriş verilerinin boyutu (1492, 2548)\n",
      "Test için giriş verilerinin boyutu (640, 2548)\n",
      "Eğitim için çıkış verilerinin boyutu (1492,)\n",
      "Test için çıkış verilerinin boyutu (640,)\n"
     ]
    }
   ],
   "source": [
    "X_train, X_test, y_train, y_test = preprocess_inputs(df)\n",
    "\n",
    "\n",
    "print(\"Eğitim için giriş verilerinin boyutu\",X_train.shape)\n",
    "print(\"Test için giriş verilerinin boyutu\",X_test.shape)\n",
    "print(\"Eğitim için çıkış verilerinin boyutu\",y_train.shape)\n",
    "print(\"Test için çıkış verilerinin boyutu\",y_test.shape)\n",
    "\n"
   ]
  },
  {
   "cell_type": "code",
   "execution_count": 123,
   "id": "7e1241d7",
   "metadata": {},
   "outputs": [
    {
     "name": "stdout",
     "output_type": "stream",
     "text": [
      "Model: \"sequential_1\"\n",
      "_________________________________________________________________\n",
      "Layer (type)                 Output Shape              Param #   \n",
      "=================================================================\n",
      "dense_4 (Dense)              (None, 64)                163136    \n",
      "_________________________________________________________________\n",
      "dense_5 (Dense)              (None, 32)                2080      \n",
      "_________________________________________________________________\n",
      "dense_6 (Dense)              (None, 32)                1056      \n",
      "_________________________________________________________________\n",
      "dense_7 (Dense)              (None, 3)                 99        \n",
      "=================================================================\n",
      "Total params: 166,371\n",
      "Trainable params: 166,371\n",
      "Non-trainable params: 0\n",
      "_________________________________________________________________\n"
     ]
    }
   ],
   "source": [
    "\n",
    "model = Sequential()\n",
    "model.add(Dense(64, activation='relu', input_dim=2548))\n",
    "model.add(Dense(32, activation='relu'))\n",
    "model.add(Dense(32, activation='relu'))\n",
    "model.add(Dense(3, activation='softmax'))\n",
    "\n",
    "#Y_train = np.asarray(Y_train).astype('float32')\n",
    "# Compile the model\n",
    "from tensorflow import keras\n",
    "import tensorflow as tf\n",
    "\n",
    "model.compile(loss=\"sparse_categorical_crossentropy\", optimizer='adam', metrics=['accuracy'])\n",
    "model.summary()\n",
    "\n"
   ]
  },
  {
   "cell_type": "code",
   "execution_count": 71,
   "id": "b96f0704",
   "metadata": {},
   "outputs": [
    {
     "name": "stdout",
     "output_type": "stream",
     "text": [
      "Epoch 1/10\n",
      "33/33 [==============================] - 2s 59ms/step - loss: 544036388864.0000 - accuracy: 0.5977 - val_loss: 58208088064.0000 - val_accuracy: 0.6786\n",
      "Epoch 2/10\n",
      "33/33 [==============================] - 0s 3ms/step - loss: 97825300480.0000 - accuracy: 0.6121 - val_loss: 112196075520.0000 - val_accuracy: 0.6920\n",
      "Epoch 3/10\n",
      "33/33 [==============================] - 0s 3ms/step - loss: 2239435374592.0000 - accuracy: 0.6111 - val_loss: 8269880360960.0000 - val_accuracy: 0.5848\n",
      "Epoch 4/10\n",
      "33/33 [==============================] - 0s 3ms/step - loss: 2449239703552.0000 - accuracy: 0.5489 - val_loss: 5448096284672.0000 - val_accuracy: 0.6071\n",
      "Epoch 5/10\n",
      "33/33 [==============================] - 0s 3ms/step - loss: 1618793332736.0000 - accuracy: 0.5556 - val_loss: 2833275944960.0000 - val_accuracy: 0.4018\n",
      "Epoch 6/10\n",
      "33/33 [==============================] - 0s 3ms/step - loss: 1095136837632.0000 - accuracy: 0.5335 - val_loss: 1067119149056.0000 - val_accuracy: 0.6049\n",
      "Epoch 7/10\n",
      "33/33 [==============================] - 0s 3ms/step - loss: 2028301713408.0000 - accuracy: 0.5565 - val_loss: 2092172181504.0000 - val_accuracy: 0.5826\n",
      "Epoch 8/10\n",
      "33/33 [==============================] - 0s 4ms/step - loss: 6442007920640.0000 - accuracy: 0.4847 - val_loss: 23615646990336.0000 - val_accuracy: 0.5357\n",
      "Epoch 9/10\n",
      "33/33 [==============================] - 0s 4ms/step - loss: 3125300166656.0000 - accuracy: 0.5268 - val_loss: 2672106405888.0000 - val_accuracy: 0.5714\n",
      "Epoch 10/10\n",
      "33/33 [==============================] - 0s 3ms/step - loss: 972689833984.0000 - accuracy: 0.5345 - val_loss: 647171014656.0000 - val_accuracy: 0.5960\n"
     ]
    }
   ],
   "source": [
    "#validationı arttırdığımızda yani eğitim için data sayısını arttırdığımızda acc oranı artar\n",
    "history = model.fit(X_train, y_train,validation_split=0.3, batch_size=32,  epochs=10) "
   ]
  },
  {
   "cell_type": "code",
   "execution_count": 85,
   "id": "48f6bc18",
   "metadata": {},
   "outputs": [
    {
     "name": "stdout",
     "output_type": "stream",
     "text": [
      "20/20 [==============================] - 0s 2ms/step - loss: 11967148326912.0000 - accuracy: 0.5297\n",
      "Test loss: 11967148326912.0\n",
      "Test accuracy: 0.5296875238418579\n",
      "Test Accuracy: 52.97%\n",
      "(640, 3)\n",
      "(640,)\n"
     ]
    },
    {
     "data": {
      "image/png": "[encoded data removed]",
      "text/plain": [
       "<Figure size 432x288 with 1 Axes>"
      ]
     },
     "metadata": {},
     "output_type": "display_data"
    },
    {
     "data": {
      "image/png": "[encoded data removed]",
      "text/plain": [
       "<Figure size 648x504 with 2 Axes>"
      ]
     },
     "metadata": {},
     "output_type": "display_data"
    }
   ],
   "source": [
    "plt.plot(history.history['accuracy'])\n",
    "plt.legend(['accuracy'])\n",
    "\n",
    "\n",
    "# accurancy ve loss değerlerinin 2.türlü bulunuşu\n",
    "score=model.evaluate(X_test, y_test)\n",
    "\n",
    "print('Test loss:', score[0]) \n",
    "print('Test accuracy:', score[1])\n",
    "\n",
    "\n",
    "model_acc = model.evaluate(X_test, y_test, verbose=0)[1]\n",
    "print(\"Test Accuracy: {:.2f}%\".format(model_acc * 100))\n",
    "\n",
    "pred=model.predict(X_test)\n",
    "\n",
    "sns.set(style='white')\n",
    "print(y_pred.shape)\n",
    "print(y_test.shape)\n",
    "fig, ax = plt.subplots(figsize=(9,7))\n",
    "sns.heatmap(conf_mat, annot=True, fmt='d')\n",
    "plt.ylabel('Gerçek')\n",
    "plt.xlabel('Tahmin')\n",
    "plt.show()\n"
   ]
  },
  {
   "cell_type": "markdown",
   "id": "241ac30b",
   "metadata": {},
   "source": [
    "###  Naif Bayes"
   ]
  },
  {
   "cell_type": "code",
   "execution_count": 20,
   "id": "1aba1722",
   "metadata": {},
   "outputs": [],
   "source": [
    "from sklearn.naive_bayes import GaussianNB\n",
    "from sklearn.metrics import confusion_matrix, accuracy_score,mean_absolute_error,accuracy_score\n",
    "#X_train, X_test, y_train, y_test = preprocess_inputs(df)\n",
    "\n",
    "\n",
    "gauss = GaussianNB().fit(X_train,y_train)\n",
    "pred_gauss_train = gauss.predict(X_train)\n",
    "pred_gauss_test = gauss.predict(X_test)\n",
    "\n",
    "# Train accuracy\n",
    "gauss_train_accr = round(gauss.score(X_train,y_train) * 100, 2)\n",
    "gauss_test_accr = round(gauss.score(X_test,y_test) * 100, 2)\n",
    "\n",
    "# Error rate\n",
    "gauss_train_mae = round((mean_absolute_error(y_train, pred_gauss_train) * 100), 2)\n",
    "gauss_test_mae = round((mean_absolute_error(y_test, pred_gauss_test) * 100), 2)"
   ]
  },
  {
   "cell_type": "code",
   "execution_count": 95,
   "id": "3f3085a6",
   "metadata": {
    "scrolled": true
   },
   "outputs": [
    {
     "name": "stdout",
     "output_type": "stream",
     "text": [
      "Gauss-Eğitim dogruluk oranı : %39.95\n",
      "Gauss-Test dogruluk oranı : %43.75\n"
     ]
    }
   ],
   "source": [
    "print(\"Gauss-Eğitim dogruluk oranı : %{}\".format(gauss_train_accr))\n",
    "print(\"Gauss-Test dogruluk oranı : %{}\".format(gauss_test_accr))\n"
   ]
  },
  {
   "cell_type": "code",
   "execution_count": 22,
   "id": "9926b383",
   "metadata": {},
   "outputs": [
    {
     "data": {
      "image/png": "[encoded data removed]",
      "text/plain": [
       "<Figure size 648x504 with 2 Axes>"
      ]
     },
     "metadata": {},
     "output_type": "display_data"
    }
   ],
   "source": [
    "import matplotlib.pyplot as plt\n",
    "import seaborn as sns \n",
    "\n",
    "plt.plot(history.history['accuracy'])\n",
    "plt.legend(['accuracy'])\n",
    "\n",
    "\n",
    "\n",
    "print(\"CONFUSION MATRİX\")\n",
    "\n",
    "\n",
    "sns.set(style='white')\n",
    "conf_mat = confusion_matrix(y_test, pred_gauss_test)\n",
    "fig, ax = plt.subplots(figsize=(9,7))\n",
    "sns.heatmap(conf_mat, annot=True, fmt='d')\n",
    "plt.ylabel('Gerçek')\n",
    "plt.xlabel('Tahmin')\n",
    "plt.show()\n",
    "\n",
    "\n",
    "\n"
   ]
  },
  {
   "cell_type": "markdown",
   "id": "4bbf4505",
   "metadata": {},
   "source": [
    "## K-En Yakın Komşular"
   ]
  },
  {
   "cell_type": "code",
   "execution_count": 97,
   "id": "915fb309",
   "metadata": {},
   "outputs": [
    {
     "data": {
      "image/png": "[encoded data removed]",
      "text/plain": [
       "<Figure size 576x576 with 2 Axes>"
      ]
     },
     "metadata": {},
     "output_type": "display_data"
    },
    {
     "name": "stdout",
     "output_type": "stream",
     "text": [
      "Knn-Eğitim dogruluk oranı : %79.22\n",
      "Knn-Test dogruluk oranı : %72.19\n"
     ]
    }
   ],
   "source": [
    "from sklearn.model_selection import GridSearchCV\n",
    "trainAcc = []\n",
    "testAcc = []\n",
    "##X_train, X_test, y_train, y_test = preprocess_inputs(df)\n",
    "#param kısmında komşular için 20 farklı model deneyerek cross-validated score en yüksek olanı döndürüyor.\n",
    "knn = GridSearchCV(estimator=KNeighborsClassifier(), param_grid={'n_neighbors':np.arange(1,8)}, cv=10)\n",
    "knn = knn.fit(X_train, y_train)\n",
    "pred_knn_train = knn.predict(X_train)\n",
    "pred_knn_test = knn.predict(X_test)\n",
    "    \n",
    "knn_train_accr = round(knn.score(X_train,y_train) * 100, 2)\n",
    "knn_test_accr = round(knn.score(X_test,y_test) * 100, 2)\n",
    "    \n",
    "trainAcc.append(knn_train_accr)\n",
    "testAcc.append(knn_test_accr)   \n",
    "    \n",
    "fig, ax = plt.subplots(figsize=(8,8))\n",
    "sns.heatmap(conf_mat, annot=True, fmt='d')\n",
    "plt.ylabel('Gerçek')\n",
    "plt.xlabel('Tahmin')\n",
    "plt.show()\n",
    "    \n",
    "    \n",
    "print(\"Knn-Eğitim dogruluk oranı : %{}\".format(knn_train_accr))\n",
    "print(\"Knn-Test dogruluk oranı : %{}\".format(knn_test_accr))\n",
    "\n"
   ]
  },
  {
   "cell_type": "code",
   "execution_count": 27,
   "id": "75165ed0",
   "metadata": {},
   "outputs": [
    {
     "data": {
      "image/png": "[encoded data removed]",
      "text/plain": [
       "<Figure size 576x432 with 1 Axes>"
      ]
     },
     "metadata": {},
     "output_type": "display_data"
    }
   ],
   "source": [
    "plt.figure(figsize=(8,6))\n",
    "plt.plot(trainAcc)\n",
    "plt.title('K için optimum komşu değer')\n",
    "plt.ylabel('doğruluk')\n",
    "plt.xlabel('komşu değerleri')\n",
    "plt.show()"
   ]
  },
  {
   "cell_type": "markdown",
   "id": "f4b3ec43",
   "metadata": {},
   "source": [
    "## Random Forest Sınıflandırma"
   ]
  },
  {
   "cell_type": "code",
   "execution_count": 124,
   "id": "25d40f47",
   "metadata": {},
   "outputs": [],
   "source": [
    "import pandas as pd\n",
    "from sklearn.datasets import load_wine\n",
    "from sklearn.model_selection import train_test_split\n",
    "from sklearn.ensemble import RandomForestClassifier\n",
    "from sklearn.metrics import accuracy_score"
   ]
  },
  {
   "cell_type": "code",
   "execution_count": 125,
   "id": "26d1ae11",
   "metadata": {},
   "outputs": [
    {
     "name": "stdout",
     "output_type": "stream",
     "text": [
      "Accuracy score for random_state = 123 : 0.978125\n",
      "[[196   0   5]\n",
      " [  0 229   2]\n",
      " [  7   0 201]]\n"
     ]
    },
    {
     "data": {
      "image/png": "[encoded data removed]",
      "text/plain": [
       "<Figure size 432x288 with 2 Axes>"
      ]
     },
     "metadata": {},
     "output_type": "display_data"
    }
   ],
   "source": [
    "rf_model = RandomForestClassifier()\n",
    "rf_model.fit(X_train, y_train)\n",
    "\n",
    "\n",
    "y_pred = rf_model.predict(X_test)\n",
    "\n",
    "accuracy_score(y_test, y_pred)\n",
    "print('Accuracy score for random_state = 123 : ' + str(accuracy_score(y_test, y_pred)))\n",
    "\n",
    "conf_mat = confusion_matrix(y_test, y_pred)\n",
    "print(conf_mat)\n",
    "\n",
    "import seaborn\n",
    "seaborn.heatmap(conf_mat)\n",
    "plt.show()"
   ]
  },
  {
   "cell_type": "code",
   "execution_count": null,
   "id": "b17a3396",
   "metadata": {},
   "outputs": [],
   "source": []
  }
 ],
 "metadata": {
  "kernelspec": {
   "display_name": "Python 3 (ipykernel)",
   "language": "python",
   "name": "python3"
  },
  "language_info": {
   "codemirror_mode": {
    "name": "ipython",
    "version": 3
   },
   "file_extension": ".py",
   "mimetype": "text/x-python",
   "name": "python",
   "nbconvert_exporter": "python",
   "pygments_lexer": "ipython3",
   "version": "3.8.13"
  }
 },
 "nbformat": 4,
 "nbformat_minor": 5
}
