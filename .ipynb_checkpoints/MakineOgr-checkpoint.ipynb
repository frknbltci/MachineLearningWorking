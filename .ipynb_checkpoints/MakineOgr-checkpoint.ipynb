{
 "cells": [
  {
   "cell_type": "markdown",
   "id": "a4811285",
   "metadata": {},
   "source": [
    "\n",
    "#### Muhammed Furkan Baltacı- 218102022"
   ]
  },
  {
   "cell_type": "markdown",
   "id": "2250152d",
   "metadata": {},
   "source": [
    "### İhtiyacımız olacak olan kütüphaneler "
   ]
  },
  {
   "cell_type": "code",
   "execution_count": 2,
   "id": "1d6d7471",
   "metadata": {},
   "outputs": [],
   "source": [
    "import pandas as pd\n",
    "pd.set_option('display.max_columns', None)\n",
    "import numpy as np\n",
    "import sys\n",
    "import matplotlib.pyplot as plt\n",
    "import seaborn as sns \n",
    "\n",
    "#np.set_printoptions(threshold=sys.maxsize)\n",
    "import warnings\n",
    "from sklearn.neighbors import KNeighborsClassifier\n",
    "from sklearn.ensemble import RandomForestClassifier\n",
    "from sklearn.metrics import roc_curve\n",
    "from sklearn.metrics import roc_auc_score\n",
    "from sklearn.metrics import confusion_matrix\n",
    "from sklearn.metrics import classification_report, confusion_matrix, roc_curve, roc_auc_score\n",
    "# Sürümden kaynaklı hatalı göz ardı etmek için kullanıyoruz.\n",
    "warnings.filterwarnings('ignore')\n",
    "from sklearn import preprocessing\n",
    "\n",
    "from sklearn.model_selection import train_test_split\n",
    "# Keras specific\n",
    "import keras \n",
    "from keras.models import Sequential\n",
    "from keras.datasets import mnist\n",
    "from keras.layers import Dense\n",
    "#from keras.utils import to_categorical "
   ]
  },
  {
   "cell_type": "markdown",
   "id": "5e06f3e1",
   "metadata": {},
   "source": [
    "## Verilerin Okunması Ve Hazırlanması"
   ]
  },
  {
   "cell_type": "code",
   "execution_count": 3,
   "id": "117b366e",
   "metadata": {
    "scrolled": false
   },
   "outputs": [],
   "source": [
    "df=pd.read_csv('emotions.csv')\n",
    "    \n",
    "sample=df['label']\n",
    "\n",
    "label_mapping = {'NEGATIVE': 0, 'NEUTRAL': 1, 'POSITIVE': 2}\n",
    "\n",
    "#y = df[\"Number of Credit Problems\"].values.reshape(-1,1)  #sütun haline getirdik\n",
    "#x = df.drop([\"\"],axis=1)\n"
   ]
  },
  {
   "cell_type": "code",
   "execution_count": 4,
   "id": "67d763a1",
   "metadata": {
    "scrolled": false
   },
   "outputs": [],
   "source": [
    "def preprocess_inputs(df):\n",
    "    df = df.copy()\n",
    "    \n",
    "    df['label'] = df['label'].replace(label_mapping)\n",
    "    \n",
    "    y = df['label'].copy()\n",
    "    X = df.drop('label', axis=1).copy()\n",
    "    print(\"Toplam çıkış\",y.shape)\n",
    "    print(\"Toplam giriş\",X.shape)\n",
    "    #Not : train_test_split fonksiyonu verileri random olarak böler. Aynı bölünmeyi tekrar elde edebilmek için rastgele belirlediğimiz random_state parametresi kullanılır.\n",
    "    #train_test_split () sklearn'de kullanıcıların verilerini eğitim ve test setlerine bölmelerine olanak tanıyan bir yöntemdir.\n",
    "    X_train, X_test, y_train, y_test = train_test_split(X, y, train_size=0.7, random_state=123)\n",
    "    \n",
    "    return X_train, X_test, y_train, y_test"
   ]
  },
  {
   "cell_type": "code",
   "execution_count": 5,
   "id": "12fb24fe",
   "metadata": {},
   "outputs": [
    {
     "name": "stdout",
     "output_type": "stream",
     "text": [
      "Toplam çıkış (2132,)\n",
      "Toplam giriş (2132, 2548)\n",
      "Eğitim için giriş verilerinin boyutu (1492, 2548)\n",
      "Test için giriş verilerinin boyutu (640, 2548)\n",
      "Eğitim için çıkış verilerinin boyutu (1492,)\n",
      "Test için çıkış verilerinin boyutu (640,)\n"
     ]
    }
   ],
   "source": [
    "X_train, X_test, y_train, y_test = preprocess_inputs(df)\n",
    "\n",
    "print(\"Eğitim için giriş verilerinin boyutu\",X_train.shape)\n",
    "print(\"Test için giriş verilerinin boyutu\",X_test.shape)\n",
    "print(\"Eğitim için çıkış verilerinin boyutu\",y_train.shape)\n",
    "print(\"Test için çıkış verilerinin boyutu\",y_test.shape)\n",
    "\n",
    "\n"
   ]
  },
  {
   "cell_type": "markdown",
   "id": "4441041c",
   "metadata": {},
   "source": [
    "## Yapay Sinir Ağı Modeli ile Sınıflandırma"
   ]
  },
  {
   "cell_type": "code",
   "execution_count": 27,
   "id": "7e1241d7",
   "metadata": {},
   "outputs": [
    {
     "name": "stdout",
     "output_type": "stream",
     "text": [
      "Model: \"sequential_4\"\n",
      "_________________________________________________________________\n",
      "Layer (type)                 Output Shape              Param #   \n",
      "=================================================================\n",
      "dense_16 (Dense)             (None, 64)                163136    \n",
      "_________________________________________________________________\n",
      "dense_17 (Dense)             (None, 32)                2080      \n",
      "_________________________________________________________________\n",
      "dense_18 (Dense)             (None, 32)                1056      \n",
      "_________________________________________________________________\n",
      "dense_19 (Dense)             (None, 3)                 99        \n",
      "=================================================================\n",
      "Total params: 166,371\n",
      "Trainable params: 166,371\n",
      "Non-trainable params: 0\n",
      "_________________________________________________________________\n"
     ]
    }
   ],
   "source": [
    "# Dense - Düğümlerimiz, activation- aktivasyon fonksiyonlarımız \n",
    "# Aktivasyon fonksiyonları çok katmanlı yapay sinir ağlarında doğrusal olmayan (non-linear) dönüşüm işlemleri için kullanılmaktadır.\n",
    "model = Sequential()\n",
    "model.add(Dense(64, activation='sigmoid', input_dim=2548))\n",
    "model.add(Dense(32, activation='sigmoid'))\n",
    "model.add(Dense(32, activation='sigmoid'))\n",
    "model.add(Dense(3, activation='softmax'))\n",
    "\n",
    "\n",
    "#Y_train = np.asarray(Y_train).astype('float32')\n",
    "# Compile the model\n",
    "from tensorflow import keras\n",
    "import tensorflow as tf\n",
    "\n",
    "#categorical_crossentropy          sparse_categorical_crossentropy\n",
    "#[1,0,0]                             1\n",
    "#[0,1,0]                             2\n",
    "#[0,0,1]                             3\n",
    "# optimizer öğrenme hızını belirleyen algoritma 'adam' learnig-rate = 0.001 den 0.0001 e değişerek gider\n",
    "model.compile(loss=\"sparse_categorical_crossentropy\", optimizer='adam', metrics=['accuracy'])\n",
    "model.summary()\n",
    "\n"
   ]
  },
  {
   "cell_type": "code",
   "execution_count": 28,
   "id": "b96f0704",
   "metadata": {},
   "outputs": [
    {
     "name": "stdout",
     "output_type": "stream",
     "text": [
      "Epoch 1/10\n",
      "38/38 [==============================] - 2s 53ms/step - loss: 18960625958912.0000 - accuracy: 0.5373 - val_loss: 18177436155904.0000 - val_accuracy: 0.5418\n",
      "Epoch 2/10\n",
      "38/38 [==============================] - 0s 3ms/step - loss: 7564141002752.0000 - accuracy: 0.5658 - val_loss: 4744785428480.0000 - val_accuracy: 0.4381\n",
      "Epoch 3/10\n",
      "38/38 [==============================] - 0s 3ms/step - loss: 9655336042496.0000 - accuracy: 0.6245 - val_loss: 828025274368.0000 - val_accuracy: 0.3980\n",
      "Epoch 4/10\n",
      "38/38 [==============================] - 0s 3ms/step - loss: 11790885847040.0000 - accuracy: 0.5834 - val_loss: 7212272451584.0000 - val_accuracy: 0.6421\n",
      "Epoch 5/10\n",
      "38/38 [==============================] - 0s 3ms/step - loss: 5625523208192.0000 - accuracy: 0.6429 - val_loss: 6924789612544.0000 - val_accuracy: 0.6823\n",
      "Epoch 6/10\n",
      "38/38 [==============================] - 0s 3ms/step - loss: 6742342631424.0000 - accuracy: 0.6211 - val_loss: 5207085809664.0000 - val_accuracy: 0.6722\n",
      "Epoch 7/10\n",
      "38/38 [==============================] - 0s 3ms/step - loss: 11509563392000.0000 - accuracy: 0.6345 - val_loss: 28103940243456.0000 - val_accuracy: 0.5485\n",
      "Epoch 8/10\n",
      "38/38 [==============================] - 0s 3ms/step - loss: 9239231725568.0000 - accuracy: 0.5448 - val_loss: 7653254758400.0000 - val_accuracy: 0.6488\n",
      "Epoch 9/10\n",
      "38/38 [==============================] - 0s 3ms/step - loss: 3347836829696.0000 - accuracy: 0.4853 - val_loss: 6818083897344.0000 - val_accuracy: 0.5485\n",
      "Epoch 10/10\n",
      "38/38 [==============================] - 0s 4ms/step - loss: 8146277367808.0000 - accuracy: 0.5331 - val_loss: 1127417774080.0000 - val_accuracy: 0.3411\n"
     ]
    }
   ],
   "source": [
    "# validationı arttırdığımızda yani eğitim için data sayısını arttırdığımızda acc oranı artar\n",
    "# batch_size, bir seferde yapay sinir ağını eğitmek için kullanılacak örnek sayısını belirtir.\n",
    "# epoch, bütün veri kümesinin yapay sinir ağından bir kere geçmesi ise bir devir olarak adlandırılır.\n",
    "history = model.fit(X_train, y_train,validation_split=0.2, batch_size=32,  epochs=10) "
   ]
  },
  {
   "cell_type": "code",
   "execution_count": 30,
   "id": "383636ee",
   "metadata": {},
   "outputs": [
    {
     "name": "stdout",
     "output_type": "stream",
     "text": [
      "           loss  accuracy      val_loss  val_accuracy  epoch\n",
      "0  1.896063e+13  0.537301  1.817744e+13      0.541806      0\n",
      "1  7.564141e+12  0.565800  4.744785e+12      0.438127      1\n",
      "2  9.655336e+12  0.624476  8.280253e+11      0.397993      2\n",
      "3  1.179089e+13  0.583403  7.212272e+12      0.642140      3\n",
      "4  5.625523e+12  0.642917  6.924790e+12      0.682274      4\n",
      "5  6.742343e+12  0.621123  5.207086e+12      0.672241      5\n",
      "6  1.150956e+13  0.634535  2.810394e+13      0.548495      6\n",
      "7  9.239232e+12  0.544845  7.653255e+12      0.648829      7\n",
      "8  3.347837e+12  0.485331  6.818084e+12      0.548495      8\n",
      "9  8.146277e+12  0.533110  1.127418e+12      0.341137      9\n"
     ]
    }
   ],
   "source": [
    "model_history = pd.DataFrame(history.history)\n",
    "model_history['epoch'] = history.epoch\n",
    "\n",
    "print(model_history)\n",
    "\n",
    "\n"
   ]
  },
  {
   "cell_type": "markdown",
   "id": "039fdd83",
   "metadata": {},
   "source": [
    "### Sonuçların grafik yardımlarıyla gösterilmesi"
   ]
  },
  {
   "cell_type": "code",
   "execution_count": 31,
   "id": "48f6bc18",
   "metadata": {},
   "outputs": [
    {
     "name": "stdout",
     "output_type": "stream",
     "text": [
      "20/20 [==============================] - 0s 2ms/step - loss: 25518627880960.0000 - accuracy: 0.3219\n",
      "Test loss: 25518627880960.0\n",
      "Test accuracy: 0.3218750059604645\n",
      "Test Accuracy: 32.19%\n"
     ]
    },
    {
     "data": {
      "image/png": "[encoded data removed]",
      "text/plain": [
       "<Figure size 432x288 with 1 Axes>"
      ]
     },
     "metadata": {},
     "output_type": "display_data"
    }
   ],
   "source": [
    "plt.plot(history.history['accuracy'])\n",
    "plt.legend(['accuracy'])\n",
    "\n",
    "# accurancy ve loss değerlerinin 2.türlü bulunuşu\n",
    "score=model.evaluate(X_test, y_test)\n",
    "\n",
    "print('Test loss:', score[0]) \n",
    "print('Test accuracy:', score[1])\n",
    "\n",
    "model_acc = model.evaluate(X_test, y_test, verbose=0)[1]\n",
    "print(\"Test Accuracy: {:.2f}%\".format(model_acc * 100))\n",
    "\n",
    "pred=model.predict(X_test)\n"
   ]
  },
  {
   "cell_type": "code",
   "execution_count": 32,
   "id": "4967ceec",
   "metadata": {},
   "outputs": [
    {
     "name": "stdout",
     "output_type": "stream",
     "text": [
      "(640,)\n",
      "(640, 3)\n",
      "<class 'numpy.ndarray'>\n",
      "[0 2 2 2 2 2 2 2 2 2 2 2 2 2 2 0 2 2 2 2 2 2 2 2 0 2 0 0 2 2 2 2 2 2 2 2 2\n",
      " 2 2 0 2 2 2 2 2 2 2 2 2 2 2 2 2 2 2 2 2 2 2 2 2 2 2 2 2 0 0 2 2 2 2 2 2 2\n",
      " 2 2 2 2 2 2 2 2 2 2 0 2 2 2 2 2 2 2 2 2 2 2 2 2 2 2 2 2 2 2 2 2 2 2 2 2 2\n",
      " 2 2 2 0 0 2 2 2 2 2 0 2 0 2 2 2 2 2 2 2 2 2 2 2 0 2 2 2 2 2 2 2 2 2 2 2 2\n",
      " 2 2 2 2 0 2 2 2 2 2 2 2 2 2 2 2 0 2 2 2 2 0 2 2 2 2 2 2 2 2 2 2 2 2 2 2 2\n",
      " 2 2 2 2 2 2 2 2 0 2 2 2 2 2 2 2 2 2 2 2 2 2 2 2 2 2 2 2 2 2 2 2 2 2 2 2 2\n",
      " 2 2 0 2 2 2 2 2 2 2 2 2 2 2 0 2 2 2 2 2 2 2 2 2 2 2 2 2 2 2 2 2 2 2 2 2 2\n",
      " 2 0 2 2 2 2 2 2 2 0 2 2 2 2 0 2 2 2 2 2 2 2 2 2 0 2 2 2 0 2 2 2 2 2 2 0 0\n",
      " 2 2 0 2 2 2 2 2 2 2 2 2 2 2 2 2 2 2 2 2 2 2 2 2 0 2 0 2 2 2 2 2 2 2 2 2 2\n",
      " 2 2 2 2 2 2 2 2 2 2 2 2 2 2 2 2 2 2 2 2 2 2 2 2 2 2 2 2 2 2 2 2 2 2 2 2 2\n",
      " 2 2 2 2 2 2 2 2 2 2 2 2 2 2 2 2 2 2 2 2 2 2 2 2 2 2 2 2 2 2 2 2 2 2 2 2 2\n",
      " 2 0 2 2 2 2 2 2 2 2 2 2 2 2 2 2 2 2 0 2 2 2 0 2 2 2 2 2 2 2 2 2 2 2 0 2 2\n",
      " 2 2 2 2 2 2 2 2 2 2 0 2 2 2 2 2 2 0 2 2 2 0 2 2 2 2 2 2 2 2 2 0 2 2 0 2 2\n",
      " 0 2 2 2 2 2 2 2 2 2 2 2 2 2 2 2 0 2 2 2 0 2 2 2 2 2 2 2 2 2 2 2 2 2 2 2 2\n",
      " 2 2 2 2 0 2 2 2 2 2 2 2 2 0 2 2 2 2 2 2 2 2 2 2 2 2 2 0 2 2 2 2 2 2 0 2 2\n",
      " 0 2 2 2 2 2 2 0 2 0 2 2 2 2 0 2 2 2 2 2 2 2 2 2 2 2 2 2 2 2 2 2 2 2 2 2 2\n",
      " 2 0 2 2 2 2 2 2 2 2 0 2 2 2 2 2 2 2 2 2 2 2 2 2 2 0 0 2 2 2 2 2 2 2 2 2 2\n",
      " 2 2 0 2 2 2 2 2 2 2 2]\n"
     ]
    },
    {
     "data": {
      "image/png": "[encoded data removed]",
      "text/plain": [
       "<Figure size 648x504 with 2 Axes>"
      ]
     },
     "metadata": {},
     "output_type": "display_data"
    }
   ],
   "source": [
    "\n",
    "print(y_test.shape)\n",
    "print(pred.shape)\n",
    "#print(y_test)\n",
    "print(type(pred))\n",
    "\n",
    "## confisuon matrixden sonuç alabilmek için istediğimiz formata çeviriyoruz.\n",
    "#print(pred[2])\n",
    "x=np.array(pred)\n",
    "print(np.where(x==1)[1])\n",
    "\n",
    "    \n",
    "sns.set(style='white')\n",
    "conf_mat = confusion_matrix(y_test, np.where(x==1)[1])\n",
    "fig, ax = plt.subplots(figsize=(9,7))\n",
    "sns.heatmap(conf_mat, annot=True, fmt='d')\n",
    "plt.ylabel('Gerçek')\n",
    "plt.xlabel('Tahmin')\n",
    "plt.show()"
   ]
  },
  {
   "cell_type": "markdown",
   "id": "241ac30b",
   "metadata": {},
   "source": [
    "##  Naif Bayes\n",
    "\n",
    "#### Naif(Naïve) Bayes sınıflandırması olasılık ilkelerine göre tanımlanmış bir dizi hesaplama ile, sisteme sunulan verilerin sınıfını yani kategorisini tespit etmeyi amaçlar."
   ]
  },
  {
   "cell_type": "code",
   "execution_count": 10,
   "id": "1aba1722",
   "metadata": {},
   "outputs": [],
   "source": [
    "from sklearn.naive_bayes import GaussianNB\n",
    "from sklearn.metrics import confusion_matrix, accuracy_score,mean_absolute_error,accuracy_score\n",
    "\n",
    "gauss = GaussianNB().fit(X_train,y_train)\n",
    "pred_gauss_train = gauss.predict(X_train)\n",
    "pred_gauss_test = gauss.predict(X_test)\n",
    "\n",
    "# Train accuracy\n",
    "gauss_train_accr = round(gauss.score(X_train,y_train) * 100, 2)\n",
    "gauss_test_accr = round(gauss.score(X_test,y_test) * 100, 2)\n",
    "\n",
    "# Error rate\n",
    "gauss_train_mae = round((mean_absolute_error(y_train, pred_gauss_train) * 100), 2)\n",
    "gauss_test_mae = round((mean_absolute_error(y_test, pred_gauss_test) * 100), 2)"
   ]
  },
  {
   "cell_type": "code",
   "execution_count": 11,
   "id": "3f3085a6",
   "metadata": {
    "scrolled": true
   },
   "outputs": [
    {
     "name": "stdout",
     "output_type": "stream",
     "text": [
      "Gauss-Eğitim dogruluk oranı : %39.95\n",
      "Gauss-Test dogruluk oranı : %43.75\n"
     ]
    }
   ],
   "source": [
    "print(\"Gauss-Eğitim dogruluk oranı : %{}\".format(gauss_train_accr))\n",
    "print(\"Gauss-Test dogruluk oranı : %{}\".format(gauss_test_accr))\n"
   ]
  },
  {
   "cell_type": "code",
   "execution_count": 12,
   "id": "9926b383",
   "metadata": {},
   "outputs": [
    {
     "name": "stdout",
     "output_type": "stream",
     "text": [
      "CONFUSION MATRİX\n"
     ]
    },
    {
     "data": {
      "image/png": "[encoded data removed]",
      "text/plain": [
       "<Figure size 432x288 with 1 Axes>"
      ]
     },
     "metadata": {
      "needs_background": "light"
     },
     "output_type": "display_data"
    },
    {
     "data": {
      "image/png": "[encoded data removed]",
      "text/plain": [
       "<Figure size 648x504 with 2 Axes>"
      ]
     },
     "metadata": {},
     "output_type": "display_data"
    }
   ],
   "source": [
    "import matplotlib.pyplot as plt\n",
    "import seaborn as sns \n",
    "\n",
    "plt.plot(history.history['accuracy'])\n",
    "plt.legend(['accuracy'])\n",
    "\n",
    "print(\"CONFUSION MATRİX\")\n",
    "\n",
    "sns.set(style='white')\n",
    "conf_mat = confusion_matrix(y_test, pred_gauss_test)\n",
    "fig, ax = plt.subplots(figsize=(9,7))\n",
    "sns.heatmap(conf_mat, annot=True, fmt='d')\n",
    "plt.ylabel('Gerçek')\n",
    "plt.xlabel('Tahmin')\n",
    "plt.show()\n",
    "\n",
    "\n"
   ]
  },
  {
   "cell_type": "markdown",
   "id": "3b0e3475",
   "metadata": {},
   "source": [
    "## K-En Yakın Komşular\n",
    "\n",
    "#### K-En yakın komşu algoritmaları, kullanılabilen tüm veri noktalarını depolayıp bir uzaklık işleviyle ölçüldüğü gibi her yeni veri noktasını buna en yakın olan veri noktalarını temel alarak sınıflandırır."
   ]
  },
  {
   "cell_type": "code",
   "execution_count": 13,
   "id": "915fb309",
   "metadata": {},
   "outputs": [
    {
     "data": {
      "image/png": "[encoded data removed]",
      "text/plain": [
       "<Figure size 576x576 with 2 Axes>"
      ]
     },
     "metadata": {},
     "output_type": "display_data"
    },
    {
     "name": "stdout",
     "output_type": "stream",
     "text": [
      "Knn-Eğitim dogruluk oranı : %79.22\n",
      "Knn-Test dogruluk oranı : %72.19\n"
     ]
    }
   ],
   "source": [
    "from sklearn.model_selection import GridSearchCV\n",
    "trainAcc = []\n",
    "testAcc = []\n",
    "##X_train, X_test, y_train, y_test = preprocess_inputs(df)\n",
    "#param kısmında komşular için 20 farklı model deneyerek cross-validated score en yüksek olanı döndürüyor.\n",
    "knn = GridSearchCV(estimator=KNeighborsClassifier(), param_grid={'n_neighbors':np.arange(1,8)}, cv=10)\n",
    "knn = knn.fit(X_train, y_train)\n",
    "pred_knn_train = knn.predict(X_train)\n",
    "pred_knn_test = knn.predict(X_test)\n",
    "    \n",
    "knn_train_accr = round(knn.score(X_train,y_train) * 100, 2)\n",
    "knn_test_accr = round(knn.score(X_test,y_test) * 100, 2)\n",
    "    \n",
    "trainAcc.append(knn_train_accr)\n",
    "testAcc.append(knn_test_accr)   \n",
    "    \n",
    "fig, ax = plt.subplots(figsize=(8,8))\n",
    "sns.heatmap(conf_mat, annot=True, fmt='d')\n",
    "plt.ylabel('Gerçek')\n",
    "plt.xlabel('Tahmin')\n",
    "plt.show()\n",
    "    \n",
    "    \n",
    "print(\"Knn-Eğitim dogruluk oranı : %{}\".format(knn_train_accr))\n",
    "print(\"Knn-Test dogruluk oranı : %{}\".format(knn_test_accr))\n",
    "\n"
   ]
  },
  {
   "cell_type": "markdown",
   "id": "2b8bbddb",
   "metadata": {},
   "source": [
    "## Random Forest Sınıflandırma\n",
    "\n",
    " #### Random forest, birden fazla karar ağacını kullanarak daha uyumlu modeller üreterek daha isabetli sınıflandırma yapmaya çalışan bir sınıflandırma modelidir."
   ]
  },
  {
   "cell_type": "code",
   "execution_count": 14,
   "id": "25d40f47",
   "metadata": {},
   "outputs": [],
   "source": [
    "import pandas as pd\n",
    "from sklearn.datasets import load_wine\n",
    "from sklearn.model_selection import train_test_split\n",
    "from sklearn.ensemble import RandomForestClassifier\n",
    "from sklearn.metrics import accuracy_score"
   ]
  },
  {
   "cell_type": "code",
   "execution_count": 15,
   "id": "38d521ee",
   "metadata": {},
   "outputs": [
    {
     "name": "stdout",
     "output_type": "stream",
     "text": [
      "Accuracy score for random_state = 123 : 0.9796875\n",
      "[[197   0   4]\n",
      " [  0 228   3]\n",
      " [  6   0 202]]\n"
     ]
    },
    {
     "data": {
      "image/png": "[encoded data removed]",
      "text/plain": [
       "<Figure size 432x288 with 2 Axes>"
      ]
     },
     "metadata": {},
     "output_type": "display_data"
    }
   ],
   "source": [
    "rf_model = RandomForestClassifier()\n",
    "rf_model.fit(X_train, y_train)\n",
    "\n",
    "\n",
    "y_pred = rf_model.predict(X_test)\n",
    "\n",
    "accuracy_score(y_test, y_pred)\n",
    "print('Accuracy score for random_state = 123 : ' + str(accuracy_score(y_test, y_pred)))\n",
    "\n",
    "conf_mat = confusion_matrix(y_test, y_pred)\n",
    "\n",
    "print(conf_mat)\n",
    "\n",
    "import seaborn\n",
    "seaborn.heatmap(conf_mat)\n",
    "plt.ylabel('Gerçek')\n",
    "plt.xlabel('Tahmin')\n",
    "plt.show()"
   ]
  },
  {
   "cell_type": "markdown",
   "id": "ea5251bb",
   "metadata": {},
   "source": [
    "## Destek Vektörü Makineleri(Support Vector Machine) Sınıflandırma \n",
    "\n",
    "#### Birbirine en yakın olan veri noktaları arasında bir hiper düzlem çizer. Bu, sınıfları ayırır ve bunların daha net şekilde ayırt edilmesi için aralarındaki mesafeyi en yükseğe çıkarır. Sınıflandırmayı sınırdaki elemanlara göre yapar."
   ]
  },
  {
   "cell_type": "code",
   "execution_count": 20,
   "id": "7f920ece",
   "metadata": {},
   "outputs": [],
   "source": [
    "# input olarak vereceğimiz dataların aralıklarını(0-90 ile 0-250.000 olmamalı) bir birine daha yakın tutmak için feature scaling yapılmalı.\n",
    "from sklearn.preprocessing import StandardScaler\n",
    "sc_X = StandardScaler()\n",
    "X_train = sc_X.fit_transform(X_train)\n",
    "X_test = sc_X.transform(X_test)"
   ]
  },
  {
   "cell_type": "code",
   "execution_count": 21,
   "id": "2490e00c",
   "metadata": {},
   "outputs": [
    {
     "data": {
      "text/plain": [
       "SVC(random_state=1)"
      ]
     },
     "execution_count": 21,
     "metadata": {},
     "output_type": "execute_result"
    }
   ],
   "source": [
    " # Svc sınıfından modelimizi oluşturup, giriş ve çıkış verilerimizle eğitiyoruz.\n",
    "from sklearn.svm import SVC\n",
    "#her zaman aynı değere ulaşabilmek için random_state verilmektedir.\n",
    "#SVM'nin verileri doğrusal sınıflandırma yapamdığı durumlarda bu kernel yapısını kullanıyoruz.(Ekstra boyut ekleyerek rahat çizgi çizmesini sağlıyor.)\n",
    "classifier = SVC(kernel='rbf', random_state = 1) #‘linear’, ‘poly’, ‘(default)rbf’, ‘sigmoid’, ‘precomputed’ \n",
    "classifier.fit(X_train, y_train)"
   ]
  },
  {
   "cell_type": "code",
   "execution_count": 22,
   "id": "ea9ebafa",
   "metadata": {},
   "outputs": [],
   "source": [
    "y_pred = classifier.predict(X_test)"
   ]
  },
  {
   "cell_type": "code",
   "execution_count": 23,
   "id": "18368b16",
   "metadata": {},
   "outputs": [
    {
     "name": "stdout",
     "output_type": "stream",
     "text": [
      "[[192   0   9]\n",
      " [  0 226   5]\n",
      " [ 20   5 183]]\n"
     ]
    },
    {
     "data": {
      "image/png": "[encoded data removed]",
      "text/plain": [
       "<Figure size 432x288 with 2 Axes>"
      ]
     },
     "metadata": {},
     "output_type": "display_data"
    },
    {
     "name": "stdout",
     "output_type": "stream",
     "text": [
      "0.9390625\n"
     ]
    },
    {
     "ename": "NameError",
     "evalue": "name 'plot_confusion_matrix' is not defined",
     "output_type": "error",
     "traceback": [
      "\u001b[1;31m---------------------------------------------------------------------------\u001b[0m",
      "\u001b[1;31mNameError\u001b[0m                                 Traceback (most recent call last)",
      "Input \u001b[1;32mIn [23]\u001b[0m, in \u001b[0;36m<cell line: 14>\u001b[1;34m()\u001b[0m\n\u001b[0;32m     10\u001b[0m accuracy \u001b[38;5;241m=\u001b[39m accuracy_score(y_test, y_pred)\n\u001b[0;32m     12\u001b[0m \u001b[38;5;28mprint\u001b[39m(accuracy)\n\u001b[1;32m---> 14\u001b[0m \u001b[43mplot_confusion_matrix\u001b[49m(cm)\n",
      "\u001b[1;31mNameError\u001b[0m: name 'plot_confusion_matrix' is not defined"
     ]
    }
   ],
   "source": [
    "from sklearn.metrics import confusion_matrix\n",
    "cm = confusion_matrix(y_test, y_pred)\n",
    "print(cm)\n",
    "seaborn.heatmap(cm)\n",
    "plt.ylabel('Gerçek')\n",
    "plt.xlabel('Tahmin')\n",
    "plt.show()\n",
    "\n",
    "from sklearn.metrics import accuracy_score\n",
    "accuracy = accuracy_score(y_test, y_pred)\n",
    "\n",
    "print(accuracy)\n",
    "\n",
    "plot_confusion_matrix(cm)\n",
    "\n",
    "#Not = değerler 0,1,2 gibi output değerleri yerine 0,1 output değeri ile eğitildiğinde doğruluk oranında artış olmaktadır."
   ]
  },
  {
   "cell_type": "markdown",
   "id": "3d2299a4",
   "metadata": {},
   "source": [
    "## Lojistik Regrasyon \n",
    "\n",
    "#### Sadece ikili sonuclarda sınıflandırma yapar. Evet/Hayır   --- Erkek/ Kadın ---  Zayıf/Şişman vb.\n",
    "\n",
    "#### Sınıflandırılacak veri çıktımız 3 olduğu için dataların çıktılarını 2 olacak şekilde ayarlayıp işleme sokalım."
   ]
  },
  {
   "cell_type": "code",
   "execution_count": 55,
   "id": "ca6acb33",
   "metadata": {},
   "outputs": [
    {
     "name": "stdout",
     "output_type": "stream",
     "text": [
      "Toplam çıkış (2132,)\n",
      "Toplam giriş (2132, 2548)\n"
     ]
    }
   ],
   "source": [
    "label_mapping = {'NEGATIVE': 0, 'NEUTRAL': 0, 'POSITIVE': 1}\n",
    "\n",
    "def preprocessfor_binary(df):\n",
    "    df = df.copy()\n",
    "    \n",
    "    df['label'] = df['label'].replace(label_mapping)\n",
    "    \n",
    "    y = df['label'].copy()\n",
    "    X = df.drop('label', axis=1).copy()\n",
    "    print(\"Toplam çıkış\",y.shape)\n",
    "    print(\"Toplam giriş\",X.shape)\n",
    "    #Not : train_test_split fonksiyonu verileri random olarak böler. Aynı bölünmeyi tekrar elde edebilmek için rastgele belirlediğimiz random_state parametresi kullanılır.\n",
    "    #train_test_split () sklearn'de kullanıcıların verilerini eğitim ve test setlerine bölmelerine olanak tanıyan bir yöntemdir.\n",
    "    X_train, X_test, y_train, y_test = train_test_split(X, y, train_size=0.8, random_state=123)\n",
    "    \n",
    "    return X_train, X_test, y_train, y_test\n",
    "\n",
    "\n",
    "X_train, X_test, y_train, y_test = preprocess_inputs(df)\n",
    "\n"
   ]
  },
  {
   "cell_type": "code",
   "execution_count": 56,
   "id": "cd7edae9",
   "metadata": {},
   "outputs": [
    {
     "name": "stdout",
     "output_type": "stream",
     "text": [
      "<class 'pandas.core.frame.DataFrame'>\n",
      "[1]\n"
     ]
    }
   ],
   "source": [
    "# LogisticRegression sınıfını import ettik\n",
    "from sklearn.linear_model import LogisticRegression\n",
    "\n",
    "# LogisticRegression sınıfından bir nesne ürettik\n",
    "lr = LogisticRegression(random_state=123,class_weight = 'balanced')\n",
    "\n",
    "# Makinemizi eğittik\n",
    "lr.fit(X_train,y_train)\n",
    "\n",
    "# Test veri kümemizi verdik ve cinsiyet tahmin etmesini sağladık\n",
    "result = lr.predict(X_test)\n",
    "result = lr.predict(X_test.head(1))\n",
    "\n",
    "print(type(X_test))\n",
    "#print(X_test.head(1))\n",
    "\n",
    "print(result)\n"
   ]
  },
  {
   "cell_type": "code",
   "execution_count": 57,
   "id": "02338dba",
   "metadata": {},
   "outputs": [
    {
     "ename": "ValueError",
     "evalue": "Found input variables with inconsistent numbers of samples: [640, 1]",
     "output_type": "error",
     "traceback": [
      "\u001b[1;31m---------------------------------------------------------------------------\u001b[0m",
      "\u001b[1;31mValueError\u001b[0m                                Traceback (most recent call last)",
      "Input \u001b[1;32mIn [57]\u001b[0m, in \u001b[0;36m<cell line: 5>\u001b[1;34m()\u001b[0m\n\u001b[0;32m      1\u001b[0m \u001b[38;5;28;01mfrom\u001b[39;00m \u001b[38;5;21;01msklearn\u001b[39;00m\u001b[38;5;21;01m.\u001b[39;00m\u001b[38;5;21;01mmetrics\u001b[39;00m \u001b[38;5;28;01mimport\u001b[39;00m confusion_matrix\n\u001b[0;32m      2\u001b[0m \u001b[38;5;66;03m# Parametre olarak karşılaştıracağımız verileri giriyoruz.\u001b[39;00m\n\u001b[0;32m      3\u001b[0m \u001b[38;5;66;03m# y_test : Cinsiyet Test Verisi\u001b[39;00m\n\u001b[0;32m      4\u001b[0m \u001b[38;5;66;03m# result : x_test verisinden tahmin ettiğimiz cinsiyet verileri\u001b[39;00m\n\u001b[1;32m----> 5\u001b[0m cm \u001b[38;5;241m=\u001b[39m \u001b[43mconfusion_matrix\u001b[49m\u001b[43m(\u001b[49m\u001b[43my_test\u001b[49m\u001b[43m,\u001b[49m\u001b[43mresult\u001b[49m\u001b[43m)\u001b[49m\n\u001b[0;32m      6\u001b[0m \u001b[38;5;28mprint\u001b[39m(cm)\n\u001b[0;32m      8\u001b[0m \u001b[38;5;28;01mimport\u001b[39;00m \u001b[38;5;21;01mseaborn\u001b[39;00m\n",
      "File \u001b[1;32m~\\anaconda3\\envs\\test\\lib\\site-packages\\sklearn\\metrics\\_classification.py:307\u001b[0m, in \u001b[0;36mconfusion_matrix\u001b[1;34m(y_true, y_pred, labels, sample_weight, normalize)\u001b[0m\n\u001b[0;32m    222\u001b[0m \u001b[38;5;28;01mdef\u001b[39;00m \u001b[38;5;21mconfusion_matrix\u001b[39m(\n\u001b[0;32m    223\u001b[0m     y_true, y_pred, \u001b[38;5;241m*\u001b[39m, labels\u001b[38;5;241m=\u001b[39m\u001b[38;5;28;01mNone\u001b[39;00m, sample_weight\u001b[38;5;241m=\u001b[39m\u001b[38;5;28;01mNone\u001b[39;00m, normalize\u001b[38;5;241m=\u001b[39m\u001b[38;5;28;01mNone\u001b[39;00m\n\u001b[0;32m    224\u001b[0m ):\n\u001b[0;32m    225\u001b[0m     \u001b[38;5;124;03m\"\"\"Compute confusion matrix to evaluate the accuracy of a classification.\u001b[39;00m\n\u001b[0;32m    226\u001b[0m \n\u001b[0;32m    227\u001b[0m \u001b[38;5;124;03m    By definition a confusion matrix :math:`C` is such that :math:`C_{i, j}`\u001b[39;00m\n\u001b[1;32m   (...)\u001b[0m\n\u001b[0;32m    305\u001b[0m \u001b[38;5;124;03m    (0, 2, 1, 1)\u001b[39;00m\n\u001b[0;32m    306\u001b[0m \u001b[38;5;124;03m    \"\"\"\u001b[39;00m\n\u001b[1;32m--> 307\u001b[0m     y_type, y_true, y_pred \u001b[38;5;241m=\u001b[39m \u001b[43m_check_targets\u001b[49m\u001b[43m(\u001b[49m\u001b[43my_true\u001b[49m\u001b[43m,\u001b[49m\u001b[43m \u001b[49m\u001b[43my_pred\u001b[49m\u001b[43m)\u001b[49m\n\u001b[0;32m    308\u001b[0m     \u001b[38;5;28;01mif\u001b[39;00m y_type \u001b[38;5;129;01mnot\u001b[39;00m \u001b[38;5;129;01min\u001b[39;00m (\u001b[38;5;124m\"\u001b[39m\u001b[38;5;124mbinary\u001b[39m\u001b[38;5;124m\"\u001b[39m, \u001b[38;5;124m\"\u001b[39m\u001b[38;5;124mmulticlass\u001b[39m\u001b[38;5;124m\"\u001b[39m):\n\u001b[0;32m    309\u001b[0m         \u001b[38;5;28;01mraise\u001b[39;00m \u001b[38;5;167;01mValueError\u001b[39;00m(\u001b[38;5;124m\"\u001b[39m\u001b[38;5;132;01m%s\u001b[39;00m\u001b[38;5;124m is not supported\u001b[39m\u001b[38;5;124m\"\u001b[39m \u001b[38;5;241m%\u001b[39m y_type)\n",
      "File \u001b[1;32m~\\anaconda3\\envs\\test\\lib\\site-packages\\sklearn\\metrics\\_classification.py:84\u001b[0m, in \u001b[0;36m_check_targets\u001b[1;34m(y_true, y_pred)\u001b[0m\n\u001b[0;32m     57\u001b[0m \u001b[38;5;28;01mdef\u001b[39;00m \u001b[38;5;21m_check_targets\u001b[39m(y_true, y_pred):\n\u001b[0;32m     58\u001b[0m     \u001b[38;5;124;03m\"\"\"Check that y_true and y_pred belong to the same classification task.\u001b[39;00m\n\u001b[0;32m     59\u001b[0m \n\u001b[0;32m     60\u001b[0m \u001b[38;5;124;03m    This converts multiclass or binary types to a common shape, and raises a\u001b[39;00m\n\u001b[1;32m   (...)\u001b[0m\n\u001b[0;32m     82\u001b[0m \u001b[38;5;124;03m    y_pred : array or indicator matrix\u001b[39;00m\n\u001b[0;32m     83\u001b[0m \u001b[38;5;124;03m    \"\"\"\u001b[39;00m\n\u001b[1;32m---> 84\u001b[0m     \u001b[43mcheck_consistent_length\u001b[49m\u001b[43m(\u001b[49m\u001b[43my_true\u001b[49m\u001b[43m,\u001b[49m\u001b[43m \u001b[49m\u001b[43my_pred\u001b[49m\u001b[43m)\u001b[49m\n\u001b[0;32m     85\u001b[0m     type_true \u001b[38;5;241m=\u001b[39m type_of_target(y_true)\n\u001b[0;32m     86\u001b[0m     type_pred \u001b[38;5;241m=\u001b[39m type_of_target(y_pred)\n",
      "File \u001b[1;32m~\\anaconda3\\envs\\test\\lib\\site-packages\\sklearn\\utils\\validation.py:332\u001b[0m, in \u001b[0;36mcheck_consistent_length\u001b[1;34m(*arrays)\u001b[0m\n\u001b[0;32m    330\u001b[0m uniques \u001b[38;5;241m=\u001b[39m np\u001b[38;5;241m.\u001b[39munique(lengths)\n\u001b[0;32m    331\u001b[0m \u001b[38;5;28;01mif\u001b[39;00m \u001b[38;5;28mlen\u001b[39m(uniques) \u001b[38;5;241m>\u001b[39m \u001b[38;5;241m1\u001b[39m:\n\u001b[1;32m--> 332\u001b[0m     \u001b[38;5;28;01mraise\u001b[39;00m \u001b[38;5;167;01mValueError\u001b[39;00m(\n\u001b[0;32m    333\u001b[0m         \u001b[38;5;124m\"\u001b[39m\u001b[38;5;124mFound input variables with inconsistent numbers of samples: \u001b[39m\u001b[38;5;132;01m%r\u001b[39;00m\u001b[38;5;124m\"\u001b[39m\n\u001b[0;32m    334\u001b[0m         \u001b[38;5;241m%\u001b[39m [\u001b[38;5;28mint\u001b[39m(l) \u001b[38;5;28;01mfor\u001b[39;00m l \u001b[38;5;129;01min\u001b[39;00m lengths]\n\u001b[0;32m    335\u001b[0m     )\n",
      "\u001b[1;31mValueError\u001b[0m: Found input variables with inconsistent numbers of samples: [640, 1]"
     ]
    }
   ],
   "source": [
    "from sklearn.metrics import confusion_matrix\n",
    "# Parametre olarak karşılaştıracağımız verileri giriyoruz.\n",
    "# y_test : Cinsiyet Test Verisi\n",
    "# result : x_test verisinden tahmin ettiğimiz cinsiyet verileri\n",
    "cm = confusion_matrix(y_test,result)\n",
    "print(cm)\n",
    "\n",
    "import seaborn\n",
    "seaborn.heatmap(cm)\n",
    "plt.ylabel('Gerçek')\n",
    "plt.xlabel('Tahmin')\n",
    "plt.show()\n",
    "\n",
    "\n",
    "import sklearn.metrics as metrics\n",
    "# calculate the fpr and tpr for all thresholds of the classification\n",
    "#probs = model.predict_proba(X_test)\n",
    "#preds = probs[:,1]\n",
    "fpr, tpr, threshold = metrics.roc_curve(y_test, np.where(x==1)[1])\n",
    "roc_auc = metrics.auc(fpr, tpr)\n",
    "\n",
    "# method I: plt\n",
    "import matplotlib.pyplot as plt\n",
    "plt.title('Receiver Operating Characteristic')\n",
    "plt.plot(fpr, tpr, 'b', label = 'AUC = %0.2f' % roc_auc)\n",
    "plt.legend(loc = 'lower right')\n",
    "plt.plot([0, 1], [0, 1],'r--')\n",
    "plt.xlim([0, 1])\n",
    "plt.ylim([0, 1])\n",
    "plt.ylabel('True Positive Rate')\n",
    "plt.xlabel('False Positive Rate')\n",
    "plt.show()"
   ]
  },
  {
   "cell_type": "code",
   "execution_count": 52,
   "id": "cf9a5c53",
   "metadata": {},
   "outputs": [],
   "source": [
    "#confusion \n",
    "def plot_confusion_matrix(cm, cmap=plt.cm.Blues):\n",
    "    plt.imshow(cm, interpolation='nearest', cmap=cmap)\n",
    "    plt.title(\"Confusion Matrix\")\n",
    "    plt.colorbar()\n",
    "    tick_marks = np.arange(2)\n",
    "    plt.xticks(tick_marks, [0,1])\n",
    "    plt.yticks(tick_marks, [0,1])\n",
    "    plt.tight_layout()\n",
    "    plt.ylabel('Beklenen Değerler')\n",
    "    plt.xlabel('Tahmini Değerler')"
   ]
  },
  {
   "cell_type": "code",
   "execution_count": 53,
   "id": "770acce6",
   "metadata": {},
   "outputs": [
    {
     "ename": "SyntaxError",
     "evalue": "invalid syntax (3886128846.py, line 6)",
     "output_type": "error",
     "traceback": [
      "\u001b[1;36m  Input \u001b[1;32mIn [53]\u001b[1;36m\u001b[0m\n\u001b[1;33m    alpha = 0.75, cmap = ListedColormap(('red', 'black')))\u001b[0m\n\u001b[1;37m    ^\u001b[0m\n\u001b[1;31mSyntaxError\u001b[0m\u001b[1;31m:\u001b[0m invalid syntax\n"
     ]
    }
   ],
   "source": [
    "from matplotlib.colors import ListedColormap\n",
    "X_set, y_set = X_train, y_train\n",
    "X1, X2 = np.meshgrid(np.arange(start = X_set[:, 0].min() - 1, stop = X_set[:,\n",
    " np.arange(start = X_set[:, 1].min() - 1, stop = X_set[:,\n",
    "plt.contourf(X1, X2, classifier.predict(np.array([X1.ravel(), X2.ravel()]).T)\n",
    " alpha = 0.75, cmap = ListedColormap(('red', 'black')))\n",
    "plt.xlim(X1.min(), X1.max())\n",
    "plt.ylim(X2.min(), X2.max())\n",
    "for i, j in enumerate(np.unique(y_set)):\n",
    " plt.scatter(X_set[y_set == j, 0], X_set[y_set == j, 1],\n",
    " c = ListedColormap(('red', 'black'))(i), label = j)\n",
    "plt.title('Decision Tree Classification (Training seti)')\n",
    "plt.xlabel('Yaş')\n",
    "plt.ylabel('Tahmini Maaş'"
   ]
  },
  {
   "cell_type": "code",
   "execution_count": null,
   "id": "930a44d0",
   "metadata": {},
   "outputs": [],
   "source": []
  }
 ],
 "metadata": {
  "kernelspec": {
   "display_name": "Python 3 (ipykernel)",
   "language": "python",
   "name": "python3"
  },
  "language_info": {
   "codemirror_mode": {
    "name": "ipython",
    "version": 3
   },
   "file_extension": ".py",
   "mimetype": "text/x-python",
   "name": "python",
   "nbconvert_exporter": "python",
   "pygments_lexer": "ipython3",
   "version": "3.8.13"
  }
 },
 "nbformat": 4,
 "nbformat_minor": 5
}
